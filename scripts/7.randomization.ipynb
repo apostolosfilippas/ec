{
 "cells": [
  {
   "cell_type": "markdown",
   "metadata": {},
   "source": [
    "---\n",
    "\n",
    "### 🎓 **Professor**: Apostolos Filippas\n",
    "\n",
    "### 📘 **Class**: E-Commerce\n",
    "\n",
    "### 📋 **Topic**: Randomized Assignment and Balance Tests\n",
    "\n",
    "🚫 **Note**: You are not allowed to share the contents of this notebook with anyone outside this class without written permission by the professor.\n",
    "\n",
    "---\n"
   ]
  },
  {
   "cell_type": "markdown",
   "metadata": {},
   "source": [
    "## Overview\n",
    "\n",
    "Let's use our Python knowledge to perform a randomized assignment, and verify we did it correctly.\n",
    "\n",
    "**What we'll learn:**\n",
    "- How to perform randomized assignment\n",
    "- How to check if randomization worked\n",
    "- Balance tests and their importance\n",
    "- Setting random seeds for reproducibility\n"
   ]
  },
  {
   "cell_type": "code",
   "execution_count": 1,
   "metadata": {
    "execution": {
     "iopub.execute_input": "2025-08-27T19:51:55.317908Z",
     "iopub.status.busy": "2025-08-27T19:51:55.317775Z",
     "iopub.status.idle": "2025-08-27T19:51:56.047839Z",
     "shell.execute_reply": "2025-08-27T19:51:56.047552Z"
    }
   },
   "outputs": [
    {
     "name": "stdout",
     "output_type": "stream",
     "text": [
      "Dataset loaded successfully!\n",
      "Dataset shape: (19272, 9)\n",
      "Columns: ['user', 'city', 'gender', 'age', 'asset_year', 'user_status', 'earnings', 'first_trip_m', 'price_hourly']\n",
      "Sample of user data:\n",
      "   user           city  gender   age  asset_year  user_status  earnings  \\\n",
      "0     1      San Diego    MALE   NaN      2003.0     DELISTED    24.960   \n",
      "1     2        Oakland    MALE   NaN      2015.0      LIMITED     0.000   \n",
      "2     3        Chicago    MALE  30.0      2012.0  OFFBOARDING   995.132   \n",
      "3     4  San Francisco  FEMALE  27.0      2013.0       ACTIVE   235.474   \n",
      "4     5    Los Angeles    MALE  26.0      2018.0       ACTIVE  1495.042   \n",
      "\n",
      "   first_trip_m  price_hourly  \n",
      "0           NaN          8.00  \n",
      "1          80.0          5.72  \n",
      "2          41.0          9.50  \n",
      "3          79.0         11.00  \n",
      "4          80.0         12.55  \n"
     ]
    }
   ],
   "source": [
    "# Let's import the libraries we will use\n",
    "import matplotlib.pyplot as plt\n",
    "import numpy as np\n",
    "import pandas as pd\n",
    "import seaborn as sns\n",
    "\n",
    "# Load user data for randomization\n",
    "df_users = pd.read_csv(\"../data/users.csv\")\n",
    "\n",
    "print(\"Dataset loaded successfully!\")\n",
    "print(f\"Dataset shape: {df_users.shape}\")\n",
    "print(f\"Columns: {df_users.columns.tolist()}\")\n",
    "\n",
    "print(\"Sample of user data:\")\n",
    "print(df_users.head())\n"
   ]
  },
  {
   "cell_type": "markdown",
   "metadata": {},
   "source": [
    "## Exact Randomized Assignment\n",
    "\n",
    "Sometimes we want exactly half the users in each group. We can achieve this using sampling:\n"
   ]
  },
  {
   "cell_type": "code",
   "execution_count": 2,
   "metadata": {
    "execution": {
     "iopub.execute_input": "2025-08-27T19:51:56.064667Z",
     "iopub.status.busy": "2025-08-27T19:51:56.064567Z",
     "iopub.status.idle": "2025-08-27T19:51:56.071195Z",
     "shell.execute_reply": "2025-08-27T19:51:56.070983Z"
    }
   },
   "outputs": [
    {
     "name": "stdout",
     "output_type": "stream",
     "text": [
      "Assignment counts (exact split):\n",
      "   treatment     n\n",
      "0    Control  9636\n",
      "1  Treatment  9636\n"
     ]
    }
   ],
   "source": [
    "# Exact randomized assignment - pick exactly half\n",
    "treatment_users = df_users.sample(n=len(df_users) // 2, random_state=44)\n",
    "\n",
    "df_users[\"treatment\"] = np.where(\n",
    "    df_users[\"user\"].isin(treatment_users[\"user\"]), \"Treatment\", \"Control\"\n",
    ")\n",
    "\n",
    "# Check the new assignment counts\n",
    "df_assignment_exact = (\n",
    "    df_users.groupby(\"treatment\")\n",
    "    .agg({\"user\": \"count\"})\n",
    "    .rename(columns={\"user\": \"n\"})\n",
    "    .reset_index()\n",
    ")\n",
    "\n",
    "print(\"Assignment counts (exact split):\")\n",
    "print(df_assignment_exact)\n"
   ]
  },
  {
   "cell_type": "markdown",
   "metadata": {},
   "source": [
    "## Balance Tests\n",
    "\n",
    "If randomized assignment was performed correctly, then the treatment groups should be similar with respect to the attributes we can observe. Let's test this:\n"
   ]
  },
  {
   "cell_type": "code",
   "execution_count": 3,
   "metadata": {
    "execution": {
     "iopub.execute_input": "2025-08-27T19:51:56.072266Z",
     "iopub.status.busy": "2025-08-27T19:51:56.072195Z",
     "iopub.status.idle": "2025-08-27T19:51:56.078949Z",
     "shell.execute_reply": "2025-08-27T19:51:56.078771Z"
    }
   },
   "outputs": [
    {
     "name": "stdout",
     "output_type": "stream",
     "text": [
      "Gender balance test:\n",
      "   treatment  gender     n\n",
      "0    Control  FEMALE  4363\n",
      "1    Control    MALE  5267\n",
      "2  Treatment  FEMALE  4359\n",
      "3  Treatment    MALE  5274\n",
      "\n",
      "Gender balance test (percentages):\n",
      "gender     FEMALE   MALE\n",
      "treatment               \n",
      "Control     0.453  0.547\n",
      "Treatment   0.453  0.547\n"
     ]
    }
   ],
   "source": [
    "# Gender balance test\n",
    "df_balance_gender = (\n",
    "    df_users.groupby([\"treatment\", \"gender\"])\n",
    "    .agg({\"user\": \"count\"})\n",
    "    .rename(columns={\"user\": \"n\"})\n",
    "    .reset_index()\n",
    ")\n",
    "\n",
    "print(\"Gender balance test:\")\n",
    "print(df_balance_gender)\n",
    "\n",
    "# Calculate percentages within each treatment group\n",
    "df_balance_gender_pct = (\n",
    "    df_users.groupby(\"treatment\")[\"gender\"]\n",
    "    .value_counts(normalize=True)\n",
    "    .unstack(fill_value=0)\n",
    "    .round(3)\n",
    ")\n",
    "\n",
    "print(\"\\nGender balance test (percentages):\")\n",
    "print(df_balance_gender_pct)\n"
   ]
  },
  {
   "cell_type": "code",
   "execution_count": 4,
   "metadata": {
    "execution": {
     "iopub.execute_input": "2025-08-27T19:51:56.079906Z",
     "iopub.status.busy": "2025-08-27T19:51:56.079838Z",
     "iopub.status.idle": "2025-08-27T19:51:56.088649Z",
     "shell.execute_reply": "2025-08-27T19:51:56.088469Z"
    }
   },
   "outputs": [
    {
     "name": "stdout",
     "output_type": "stream",
     "text": [
      "Earnings balance test:\n",
      "   treatment  avg_earnings  std_earnings  count\n",
      "0    Control        490.47       1058.08   9636\n",
      "1  Treatment        497.52       1068.95   9636\n",
      "\n",
      "Age balance t-test:\n",
      "T-statistic: -0.4601\n",
      "P-value: 0.6455\n",
      "\n",
      "Earnings balance t-test:\n",
      "T-statistic: 0.4596\n",
      "P-value: 0.6458\n"
     ]
    }
   ],
   "source": [
    "# Earnings balance test\n",
    "df_balance_earnings = (\n",
    "    df_users.groupby(\"treatment\").agg({\"earnings\": [\"mean\", \"std\", \"count\"]}).round(2)\n",
    ")\n",
    "\n",
    "# Flatten column names\n",
    "df_balance_earnings.columns = [\"avg_earnings\", \"std_earnings\", \"count\"]\n",
    "df_balance_earnings = df_balance_earnings.reset_index()\n",
    "\n",
    "print(\"Earnings balance test:\")\n",
    "print(df_balance_earnings)\n",
    "\n",
    "# Statistical balance tests\n",
    "from scipy import stats\n",
    "\n",
    "# Age balance test (t-test) - filter out users with missing age data\n",
    "df_users_age = df_users[df_users[\"age\"] > 0]\n",
    "\n",
    "treatment_ages = df_users_age[df_users_age[\"treatment\"] == \"Treatment\"][\"age\"]\n",
    "control_ages = df_users_age[df_users_age[\"treatment\"] == \"Control\"][\"age\"]\n",
    "\n",
    "age_ttest = stats.ttest_ind(treatment_ages, control_ages)\n",
    "\n",
    "print(f\"\\nAge balance t-test:\")\n",
    "print(f\"T-statistic: {age_ttest.statistic:.4f}\")\n",
    "print(f\"P-value: {age_ttest.pvalue:.4f}\")\n",
    "\n",
    "# Earnings balance test (t-test)\n",
    "treatment_earnings = df_users[df_users[\"treatment\"] == \"Treatment\"][\"earnings\"]\n",
    "control_earnings = df_users[df_users[\"treatment\"] == \"Control\"][\"earnings\"]\n",
    "\n",
    "earnings_ttest = stats.ttest_ind(treatment_earnings, control_earnings)\n",
    "\n",
    "print(f\"\\nEarnings balance t-test:\")\n",
    "print(f\"T-statistic: {earnings_ttest.statistic:.4f}\")\n",
    "print(f\"P-value: {earnings_ttest.pvalue:.4f}\")\n"
   ]
  },
  {
   "cell_type": "code",
   "execution_count": 5,
   "metadata": {
    "execution": {
     "iopub.execute_input": "2025-08-27T19:51:56.089656Z",
     "iopub.status.busy": "2025-08-27T19:51:56.089581Z",
     "iopub.status.idle": "2025-08-27T19:51:56.239396Z",
     "shell.execute_reply": "2025-08-27T19:51:56.239177Z"
    }
   },
   "outputs": [
    {
     "name": "stdout",
     "output_type": "stream",
     "text": [
      "Age balance plot saved to temp/age_balance_test.pdf\n"
     ]
    },
    {
     "name": "stderr",
     "output_type": "stream",
     "text": [
      "/var/folders/lw/wwwtpbsj28z8zqcycbpy4t2r0000gn/T/ipykernel_45745/2104037041.py:7: UserWarning: No artists with labels found to put in legend.  Note that artists whose label start with an underscore are ignored when legend() is called with no argument.\n",
      "  plt.legend(title=\"Treatment Group\", loc=\"upper right\")\n"
     ]
    }
   ],
   "source": [
    "# Age balance visualization\n",
    "plt.figure(figsize=(10, 6))\n",
    "sns.histplot(data=df_users_age, x=\"age\", hue=\"treatment\", alpha=0.6, bins=30, kde=True)\n",
    "plt.xlabel(\"Age\")\n",
    "plt.ylabel(\"Distribution\")\n",
    "plt.title(\"Age Balance Test\")\n",
    "plt.legend(title=\"Treatment Group\", loc=\"upper right\")\n",
    "plt.grid(True, alpha=0.3)\n",
    "plt.tight_layout()\n",
    "plt.savefig(\"../temp/age_balance_test.pdf\", dpi=1000, bbox_inches=\"tight\")\n",
    "plt.close()\n",
    "\n",
    "print(\"Age balance plot saved to temp/age_balance_test.pdf\")\n"
   ]
  },
  {
   "cell_type": "code",
   "execution_count": 6,
   "metadata": {
    "execution": {
     "iopub.execute_input": "2025-08-27T19:51:56.240481Z",
     "iopub.status.busy": "2025-08-27T19:51:56.240408Z",
     "iopub.status.idle": "2025-08-27T19:51:56.246349Z",
     "shell.execute_reply": "2025-08-27T19:51:56.246155Z"
    }
   },
   "outputs": [
    {
     "name": "stdout",
     "output_type": "stream",
     "text": [
      "\n",
      "============================================================\n",
      "RANDOMIZATION QUALITY CHECKLIST\n",
      "============================================================\n",
      "\n",
      "1. Sample sizes:\n",
      "   treatment     n\n",
      "0    Control  9636\n",
      "1  Treatment  9636\n",
      "\n",
      "2. P-values from balance tests (should be > 0.05):\n",
      "   Age balance: 0.6455\n",
      "   Earnings balance: 0.6458\n",
      "   Gender balance: 0.9497\n",
      "\n",
      "3. Interpretation:\n",
      "   P-values > 0.05 indicate good balance\n",
      "   Visual inspection should show similar distributions\n",
      "   Large differences in means suggest problems with randomization\n"
     ]
    }
   ],
   "source": [
    "# Randomization quality checklist\n",
    "print(\"\\n\" + \"=\" * 60)\n",
    "print(\"RANDOMIZATION QUALITY CHECKLIST\")\n",
    "print(\"=\" * 60)\n",
    "\n",
    "print(\"\\n1. Sample sizes:\")\n",
    "print(df_assignment_exact)\n",
    "\n",
    "print(\"\\n2. P-values from balance tests (should be > 0.05):\")\n",
    "print(f\"   Age balance: {age_ttest.pvalue:.4f}\")\n",
    "print(f\"   Earnings balance: {earnings_ttest.pvalue:.4f}\")\n",
    "\n",
    "# For gender balance chi-square test\n",
    "gender_crosstab = pd.crosstab(df_users[\"treatment\"], df_users[\"gender\"])\n",
    "chi2, p_value, dof, expected = stats.chi2_contingency(gender_crosstab)\n",
    "print(f\"   Gender balance: {p_value:.4f}\")\n",
    "\n",
    "print(f\"\\n3. Interpretation:\")\n",
    "print(\"   P-values > 0.05 indicate good balance\")\n",
    "print(\"   Visual inspection should show similar distributions\")\n",
    "print(\"   Large differences in means suggest problems with randomization\")\n"
   ]
  },
  {
   "cell_type": "code",
   "execution_count": 7,
   "metadata": {
    "execution": {
     "iopub.execute_input": "2025-08-27T19:51:56.247304Z",
     "iopub.status.busy": "2025-08-27T19:51:56.247241Z",
     "iopub.status.idle": "2025-08-27T19:51:56.251698Z",
     "shell.execute_reply": "2025-08-27T19:51:56.251525Z"
    }
   },
   "outputs": [
    {
     "name": "stdout",
     "output_type": "stream",
     "text": [
      "Assignment results:\n",
      "   treatment     n\n",
      "0    Control  9656\n",
      "1  Treatment  9616\n"
     ]
    }
   ],
   "source": [
    "# Set random seed for reproducibility\n",
    "np.random.seed(42)\n",
    "\n",
    "# Randomized assignment\n",
    "# Add a column with random numbers between 0 and 1\n",
    "df_users[\"random_number\"] = np.random.uniform(0, 1, len(df_users))\n",
    "\n",
    "# Assign to treatment those users that \"drew\" more than 0.5\n",
    "df_users[\"treatment\"] = np.where(df_users[\"random_number\"] > 0.5, \"Treatment\", \"Control\")\n",
    "\n",
    "# Check how many users we assigned to each group\n",
    "df_assignment = (\n",
    "    df_users.groupby(\"treatment\")\n",
    "    .agg({\"user\": \"count\"})\n",
    "    .rename(columns={\"user\": \"n\"})\n",
    "    .reset_index()\n",
    ")\n",
    "\n",
    "print(\"Assignment results:\")\n",
    "print(df_assignment)\n"
   ]
  },
  {
   "cell_type": "markdown",
   "metadata": {},
   "source": [
    "---\n",
    "\n",
    "## 🎉 Summary\n",
    "\n",
    "We learned how to perform randomized assignment and validate it:\n",
    "- **Random number generation** for assignment (probabilistic and exact)\n",
    "- **Treatment vs Control** group creation\n",
    "- **Balance tests** for different variable types (categorical and continuous)\n",
    "- **Statistical tests** for balance validation (t-tests, chi-square)\n",
    "- **Visual inspection** of treatment group balance\n",
    "- **Reproducible results** using random seeds\n",
    "\n",
    "**Key takeaways:**\n",
    "- Randomization creates comparable groups\n",
    "- Balance tests verify randomization quality\n",
    "- P-values > 0.05 indicate good balance\n",
    "- Visual inspection complements statistical tests\n",
    "\n",
    "Randomized assignment is fundamental to experimental design and causal inference.\n",
    "\n",
    "### Next:\n",
    "We'll design and analyze controlled experiments\n",
    "\n",
    "---\n"
   ]
  }
 ],
 "metadata": {
  "kernelspec": {
   "display_name": ".venv",
   "language": "python",
   "name": "python3"
  },
  "language_info": {
   "codemirror_mode": {
    "name": "ipython",
    "version": 3
   },
   "file_extension": ".py",
   "mimetype": "text/x-python",
   "name": "python",
   "nbconvert_exporter": "python",
   "pygments_lexer": "ipython3",
   "version": "3.12.3"
  }
 },
 "nbformat": 4,
 "nbformat_minor": 2
}
