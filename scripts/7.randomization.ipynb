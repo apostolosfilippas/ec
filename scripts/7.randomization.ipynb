{
  "cells": [
    {
      "cell_type": "markdown",
      "metadata": {},
      "source": [
        "---\n",
        "\n",
        "### 🎓 **Professor**: Apostolos Filippas\n",
        "\n",
        "### 📘 **Class**: E-Commerce\n",
        "\n",
        "### 📋 **Topic**: Randomized Assignment and Balance Tests\n",
        "\n",
        "🚫 **Note**: You are not allowed to share the contents of this notebook with anyone outside this class without written permission by the professor.\n",
        "\n",
        "---\n"
      ]
    },
    {
      "cell_type": "markdown",
      "metadata": {},
      "source": [
        "## Overview\n",
        "\n",
        "Let's use our Python knowledge to perform a randomized assignment, and verify we did it correctly.\n",
        "\n",
        "**What we'll learn:**\n",
        "- How to perform randomized assignment\n",
        "- How to check if randomization worked\n",
        "- Balance tests and their importance\n",
        "- Setting random seeds for reproducibility\n"
      ]
    },
    {
      "cell_type": "code",
      "execution_count": 1,
      "metadata": {},
      "outputs": [
        {
          "name": "stdout",
          "output_type": "stream",
          "text": [
            "Dataset loaded successfully!\n",
            "Dataset shape: (19272, 9)\n",
            "Columns: ['user', 'city', 'gender', 'age', 'asset_year', 'user_status', 'earnings', 'first_trip_m', 'price_hourly']\n",
            "Sample of user data:\n",
            "   user           city  gender   age  asset_year  user_status  earnings  \\\n",
            "0     1      San Diego    MALE   NaN      2003.0     DELISTED    24.960   \n",
            "1     2        Oakland    MALE   NaN      2015.0      LIMITED     0.000   \n",
            "2     3        Chicago    MALE  30.0      2012.0  OFFBOARDING   995.132   \n",
            "3     4  San Francisco  FEMALE  27.0      2013.0       ACTIVE   235.474   \n",
            "4     5    Los Angeles    MALE  26.0      2018.0       ACTIVE  1495.042   \n",
            "\n",
            "   first_trip_m  price_hourly  \n",
            "0           NaN          8.00  \n",
            "1          80.0          5.72  \n",
            "2          41.0          9.50  \n",
            "3          79.0         11.00  \n",
            "4          80.0         12.55  \n"
          ]
        }
      ],
      "source": [
        "# Let's import the libraries we will use\n",
        "import matplotlib.pyplot as plt\n",
        "import numpy as np\n",
        "import pandas as pd\n",
        "import seaborn as sns\n",
        "\n",
        "# Load user data for randomization\n",
        "df_users = pd.read_csv(\"../data/users.csv\")\n",
        "\n",
        "print(\"Dataset loaded successfully!\")\n",
        "print(f\"Dataset shape: {df_users.shape}\")\n",
        "print(f\"Columns: {df_users.columns.tolist()}\")\n",
        "\n",
        "print(\"Sample of user data:\")\n",
        "print(df_users.head())\n"
      ]
    },
    {
      "cell_type": "code",
      "execution_count": 2,
      "metadata": {},
      "outputs": [
        {
          "name": "stdout",
          "output_type": "stream",
          "text": [
            "Assignment results:\n",
            "   treatment     n\n",
            "0    Control  9656\n",
            "1  Treatment  9616\n"
          ]
        }
      ],
      "source": [
        "# Set random seed for reproducibility\n",
        "np.random.seed(42)\n",
        "\n",
        "# Randomized assignment\n",
        "# Add a column with random numbers between 0 and 1\n",
        "df_users[\"random_number\"] = np.random.uniform(0, 1, len(df_users))\n",
        "\n",
        "# Assign to treatment those users that \"drew\" more than 0.5\n",
        "df_users[\"treatment\"] = np.where(df_users[\"random_number\"] > 0.5, \"Treatment\", \"Control\")\n",
        "\n",
        "# Check how many users we assigned to each group\n",
        "df_assignment = (\n",
        "    df_users.groupby(\"treatment\")\n",
        "    .agg({\"user\": \"count\"})\n",
        "    .rename(columns={\"user\": \"n\"})\n",
        "    .reset_index()\n",
        ")\n",
        "\n",
        "print(\"Assignment results:\")\n",
        "print(df_assignment)\n"
      ]
    },
    {
      "cell_type": "markdown",
      "metadata": {},
      "source": [
        "---\n",
        "\n",
        "## 🎉 Summary\n",
        "\n",
        "We learned how to perform randomized assignment:\n",
        "- **Random number generation** for assignment\n",
        "- **Treatment vs Control** group creation\n",
        "- **Balance checking** to verify randomization\n",
        "- **Reproducible results** using random seeds\n",
        "\n",
        "Randomized assignment is fundamental to experimental design and causal inference.\n",
        "\n",
        "### Next:\n",
        "We'll design and analyze controlled experiments\n",
        "\n",
        "---\n"
      ]
    }
  ],
  "metadata": {
    "kernelspec": {
      "display_name": ".venv",
      "language": "python",
      "name": "python3"
    },
    "language_info": {
      "codemirror_mode": {
        "name": "ipython",
        "version": 3
      },
      "file_extension": ".py",
      "mimetype": "text/x-python",
      "name": "python",
      "nbconvert_exporter": "python",
      "pygments_lexer": "ipython3",
      "version": "3.12.3"
    }
  },
  "nbformat": 4,
  "nbformat_minor": 2
}
