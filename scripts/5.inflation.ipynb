{
  "cells": [
    {
      "cell_type": "markdown",
      "metadata": {},
      "source": [
        "---\n",
        "\n",
        "### 🎓 **Professor**: Apostolos Filippas\n",
        "\n",
        "### 📘 **Class**: E-Commerce\n",
        "\n",
        "### 📋 **Topic**: Reputation Inflation Analysis with Python\n",
        "\n",
        "🚫 **Note**: You are not allowed to share the contents of this notebook with anyone outside this class without written permission by the professor.\n",
        "\n",
        "---\n"
      ]
    },
    {
      "cell_type": "markdown",
      "metadata": {},
      "source": [
        "## Overview\n",
        "\n",
        "Let's use our Python knowledge to see what happened to feedback scores over time on an online marketplace for jobs. This analysis will help us understand reputation inflation patterns in digital marketplaces.\n",
        "\n",
        "**What we'll learn:**\n",
        "- How to analyze time series data with pandas\n",
        "- How to identify trends over time\n",
        "- How to visualize temporal patterns\n",
        "- Understanding reputation inflation in online markets\n"
      ]
    },
    {
      "cell_type": "code",
      "execution_count": null,
      "metadata": {},
      "outputs": [],
      "source": [
        "# Let's import the libraries we will use\n",
        "import matplotlib.pyplot as plt\n",
        "import numpy as np\n",
        "import pandas as pd\n",
        "import seaborn as sns\n",
        "\n",
        "# Load the ratings dataset\n",
        "df_ratings = pd.read_csv(\"../data/ratings.csv\")\n",
        "\n",
        "# Convert date column to datetime if it's not already\n",
        "df_ratings[\"date\"] = pd.to_datetime(df_ratings[\"date\"])\n",
        "\n",
        "print(df_ratings.head())\n",
        "print(\"Dataset loaded successfully!\")\n",
        "print(f\"Dataset shape: {df_ratings.shape}\")\n",
        "print(f\"Columns: {df_ratings.columns.tolist()}\")\n",
        "\n",
        "# This is ratings data simulated from a real marketplace\n",
        "# We will now see what happened to feedback scores over time!\n"
      ]
    },
    {
      "cell_type": "code",
      "execution_count": null,
      "metadata": {},
      "outputs": [],
      "source": [
        "# Let's use pandas datetime functionality to add some useful info\n",
        "df_ratings[\"date_month\"] = df_ratings[\"date\"].dt.month\n",
        "df_ratings[\"date_year\"] = df_ratings[\"date\"].dt.year\n",
        "\n",
        "print(\"Sample of processed data:\")\n",
        "print(df_ratings.head())\n",
        "print(f\"Date range: {df_ratings['date'].min()} to {df_ratings['date'].max()}\")\n",
        "print(f\"Score range: {df_ratings['score'].min()} to {df_ratings['score'].max()}\")\n"
      ]
    },
    {
      "cell_type": "code",
      "execution_count": null,
      "metadata": {},
      "outputs": [],
      "source": [
        "# Let's create time series analysis to see if ratings increased over time\n",
        "\n",
        "# Compute summary statistics for the ratings grouped by year and month\n",
        "df_ratings_evolution = (\n",
        "    df_ratings.groupby([\"date_year\", \"date_month\"])\n",
        "    .agg({\"score\": [\"count\", \"mean\", \"var\"]})\n",
        "    .reset_index()\n",
        ")\n",
        "\n",
        "# Flatten column names\n",
        "df_ratings_evolution.columns = [\n",
        "    \"date_year\",\n",
        "    \"date_month\", \n",
        "    \"num_obs\",\n",
        "    \"score_mean\",\n",
        "    \"score_var\",\n",
        "]\n",
        "\n",
        "print(\"Sample of evolution data:\")\n",
        "print(df_ratings_evolution.head())\n"
      ]
    },
    {
      "cell_type": "code",
      "execution_count": null,
      "metadata": {},
      "outputs": [],
      "source": [
        "# Plot the evolution of ratings over time\n",
        "plt.figure(figsize=(12, 6))\n",
        "\n",
        "# Create a simple time variable for plotting\n",
        "df_ratings_evolution[\"t\"] = 12 * (df_ratings_evolution[\"date_year\"] - 2007) + df_ratings_evolution[\"date_month\"]\n",
        "\n",
        "# Plot the mean rating over time\n",
        "plt.plot(\n",
        "    df_ratings_evolution[\"t\"],\n",
        "    df_ratings_evolution[\"score_mean\"],\n",
        "    color=\"steelblue\",\n",
        "    linewidth=2,\n",
        "    label=\"Mean Rating\",\n",
        ")\n",
        "\n",
        "# Formatting\n",
        "plt.xlabel(\"Year\")\n",
        "plt.ylabel(\"Average Feedback Scores\")\n",
        "plt.title(\"Evolution of Feedback Scores Over Time\")\n",
        "\n",
        "# Create custom x-axis labels (years)\n",
        "year_positions = list(range(1, 127, 12))  # Every 12 months\n",
        "year_labels = list(range(2007, 2018, 1))\n",
        "plt.xticks(year_positions, year_labels, rotation=45)\n",
        "\n",
        "plt.grid(True, alpha=0.3)\n",
        "plt.legend()\n",
        "plt.tight_layout()\n",
        "plt.savefig(\"../temp/ratings_evolution.pdf\", dpi=1000, bbox_inches=\"tight\")\n",
        "plt.close()\n",
        "\n",
        "print(\"Plot saved to temp/ratings_evolution.pdf\")\n"
      ]
    },
    {
      "cell_type": "markdown",
      "metadata": {},
      "source": [
        "---\n",
        "\n",
        "## 🎉 Summary\n",
        "\n",
        "We analyzed reputation inflation in an online marketplace and found:\n",
        "- **Time series data preprocessing** with pandas\n",
        "- **Trend visualization** over time\n",
        "- **Statistical analysis** of temporal patterns\n",
        "\n",
        "The data shows that feedback scores have been increasing over time, indicating reputation inflation in digital marketplaces.\n",
        "\n",
        "### Next:\n",
        "We'll analyze pricing patterns and behavior\n",
        "\n",
        "---\n"
      ]
    }
  ],
  "metadata": {
    "kernelspec": {
      "display_name": ".venv",
      "language": "python",
      "name": "python3"
    },
    "language_info": {
      "codemirror_mode": {
        "name": "ipython",
        "version": 3
      },
      "file_extension": ".py",
      "mimetype": "text/x-python",
      "name": "python",
      "nbconvert_exporter": "python",
      "pygments_lexer": "ipython3",
      "version": "3.12.3"
    }
  },
  "nbformat": 4,
  "nbformat_minor": 2
}
