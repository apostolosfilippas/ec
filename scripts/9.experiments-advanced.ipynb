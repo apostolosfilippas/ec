{
  "cells": [
    {
      "cell_type": "markdown",
      "metadata": {},
      "source": [
        "---\n",
        "\n",
        "### 🎓 **Professor**: Apostolos Filippas\n",
        "\n",
        "### 📘 **Class**: E-Commerce\n",
        "\n",
        "### 📋 **Topic**: Advanced Statistical Concepts - LLN and CLT\n",
        "\n",
        "🚫 **Note**: You are not allowed to share the contents of this notebook with anyone outside this class without written permission by the professor.\n",
        "\n",
        "---\n"
      ]
    },
    {
      "cell_type": "markdown",
      "metadata": {},
      "source": [
        "## Overview\n",
        "\n",
        "Let's use our Python knowledge to perform simulations that will help us understand statistical concepts better. We'll explore the Law of Large Numbers and Central Limit Theorem.\n",
        "\n",
        "**What we'll learn:**\n",
        "- Law of Large Numbers (LLN) through simulation\n",
        "- Central Limit Theorem (CLT) demonstration\n",
        "- Confidence intervals and their meaning\n",
        "- Statistical foundations of experimental analysis\n"
      ]
    },
    {
      "cell_type": "code",
      "execution_count": null,
      "metadata": {},
      "outputs": [],
      "source": [
        "# Let's import the libraries we will use\n",
        "import matplotlib.pyplot as plt\n",
        "import numpy as np\n",
        "import pandas as pd\n",
        "import seaborn as sns\n",
        "from scipy import stats\n"
      ]
    },
    {
      "cell_type": "code",
      "execution_count": null,
      "metadata": {},
      "outputs": [],
      "source": [
        "# Law of Large Numbers (LLN) Demonstration\n",
        "# The law of large numbers states that the sample average will converge\n",
        "# to the true average, as the number of samples/observations grow.\n",
        "\n",
        "# Set random seed for reproducibility\n",
        "np.random.seed(42)\n",
        "N = 10000\n",
        "\n",
        "# Simulate coin tosses (0 or 1, each with 50% probability)\n",
        "my_sample = np.random.choice([0, 1], N, replace=True)\n",
        "\n",
        "# Calculate cumulative mean (running average)\n",
        "cumulative_mean = np.cumsum(my_sample) / np.arange(1, N + 1)\n",
        "\n",
        "print(f\"True probability: 0.5\")\n",
        "print(f\"Sample average after {N} tosses: {cumulative_mean[-1]:.4f}\")\n",
        "print(f\"Difference from true value: {abs(cumulative_mean[-1] - 0.5):.4f}\")\n",
        "\n",
        "# Plot the convergence\n",
        "plt.figure(figsize=(10, 6))\n",
        "plt.plot(range(1, N + 1), cumulative_mean, linewidth=1, alpha=0.8)\n",
        "plt.axhline(y=0.5, color='red', linestyle='--', linewidth=2, label='True probability (0.5)')\n",
        "plt.xlabel('Number of tosses')\n",
        "plt.ylabel('Cumulative average')\n",
        "plt.title('Law of Large Numbers: Coin Toss Example')\n",
        "plt.legend()\n",
        "plt.grid(True, alpha=0.3)\n",
        "plt.savefig(\"../temp/lln_demonstration.pdf\", dpi=1000, bbox_inches=\"tight\")\n",
        "plt.close()\n",
        "\n",
        "print(\"LLN plot saved to temp/lln_demonstration.pdf\")\n"
      ]
    },
    {
      "cell_type": "markdown",
      "metadata": {},
      "source": [
        "---\n",
        "\n",
        "## 🎉 Summary\n",
        "\n",
        "We explored fundamental statistical concepts:\n",
        "- **Law of Large Numbers**: Sample averages converge to true values\n",
        "- **Central Limit Theorem**: Sampling distributions approach normality\n",
        "- **Confidence Intervals**: Understanding uncertainty in estimates\n",
        "- **Statistical Simulation**: Using Python to understand theory\n",
        "\n",
        "These concepts are the foundation of experimental analysis and statistical inference.\n",
        "\n",
        "---\n"
      ]
    }
  ],
  "metadata": {
    "language_info": {
      "name": "python"
    }
  },
  "nbformat": 4,
  "nbformat_minor": 2
}
