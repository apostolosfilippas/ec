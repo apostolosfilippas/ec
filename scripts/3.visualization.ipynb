{
  "cells": [
    {
      "cell_type": "markdown",
      "metadata": {},
      "source": [
        "---\n",
        "\n",
        "### 🎓 **Professor**: Apostolos Filippas\n",
        "\n",
        "### 📘 **Class**: E-Commerce\n",
        "\n",
        "### 📋 **Topic**: Data Visualization with Python\n",
        "\n",
        "🚫 **Note**: You are not allowed to share the contents of this notebook with anyone outside this class without written permission by the professor.\n",
        "\n",
        "---\n"
      ]
    },
    {
      "cell_type": "markdown",
      "metadata": {},
      "source": [
        "## Overview\n",
        "\n",
        "One of the most important skills for data scientists, product managers, operators --- and anyone, really --- is knowing how to visualize data. \n",
        "\n",
        "**Why is data visualization important?**\n",
        "- Patterns, trends, variability, connections, groups, remarkable data, and wrong data are often hard to see in tabular or \"raw\" data\n",
        "- Representing or summarizing data in pictures allows us to more easily see patterns, trends, errors, and so on\n",
        "\n",
        "**What we'll learn today:**\n",
        "- High-quality visualizations are super easy to create using Python with matplotlib and seaborn libraries\n",
        "- How to create different types of plots for different purposes\n",
        "- How to make our plots look professional and informative\n"
      ]
    },
    {
      "cell_type": "markdown",
      "metadata": {},
      "source": [
        "## 1. Data\n"
      ]
    },
    {
      "cell_type": "code",
      "execution_count": null,
      "metadata": {},
      "outputs": [],
      "source": [
        "# Let's import the libraries we will use\n",
        "import matplotlib.pyplot as plt\n",
        "import numpy as np\n",
        "import pandas as pd\n",
        "import seaborn as sns\n",
        "\n",
        "# Read the homes dataset\n",
        "df_homes = pd.read_csv(\"../data/homes.csv\")\n",
        "\n",
        "# Keep only the following six cities\n",
        "df_homes = df_homes[\n",
        "    df_homes[\"city\"].isin(\n",
        "        [\n",
        "            \"CHARLOTTESVILLE\",\n",
        "            \"CROZET\",\n",
        "            \"EARLYSVILLE\",\n",
        "            \"KESWICK\",\n",
        "            \"SCOTTSVILLE\",\n",
        "            \"NORTH GARDEN\",\n",
        "        ]\n",
        "    )\n",
        "]\n",
        "\n",
        "print(f\"We have {len(df_homes)} homes in our dataset\")\n",
        "print(f\"Cities included: {df_homes['city'].unique()}\")\n"
      ]
    },
    {
      "cell_type": "markdown",
      "metadata": {},
      "source": [
        "## 2. matplotlib and seaborn: visualizing data\n",
        "\n",
        "### 2.1 The idea behind matplotlib and seaborn\n",
        "\n",
        "**matplotlib** is the foundational plotting library in Python\n",
        "\n",
        "**seaborn** builds on matplotlib and provides:\n",
        "1. More attractive default styles\n",
        "2. Better statistical plotting functions\n",
        "3. Easier syntax for complex plots\n",
        "4. Better integration with pandas DataFrames\n",
        "\n",
        "**The basic approach involves:**\n",
        "1. Mapping data to visual elements (points, lines, colors, sizes)\n",
        "2. Choosing appropriate plot types (scatter, line, bar, histogram)\n",
        "3. Customizing appearance (colors, labels, themes)\n",
        "4. Adding statistical summaries (trend lines, confidence intervals)\n",
        "5. Creating subplots for different data subsets\n"
      ]
    },
    {
      "cell_type": "markdown",
      "metadata": {},
      "source": [
        "### 2.2 The basic syntax\n",
        "\n",
        "**Basic matplotlib syntax:**\n",
        "```python\n",
        "plt.figure()\n",
        "plt.scatter(x, y)\n",
        "plt.xlabel(), plt.ylabel(), plt.title()\n",
        "plt.savefig()\n",
        "```\n",
        "\n",
        "**Basic seaborn syntax:**\n",
        "```python\n",
        "sns.scatterplot(data=df, x=\"col1\", y=\"col2\", hue=\"col3\")\n",
        "plt.savefig()\n",
        "```\n",
        "\n",
        "**Key points:**\n",
        "1. seaborn works well with pandas DataFrames\n",
        "2. matplotlib provides fine-grained control\n",
        "3. Both can be combined for powerful visualizations\n",
        "4. Always save plots for later use\n"
      ]
    },
    {
      "cell_type": "code",
      "execution_count": null,
      "metadata": {},
      "outputs": [],
      "source": [
        "# 2.3 Scatterplots with seaborn\n",
        "# Create a basic scatterplot\n",
        "# - data: the DataFrame containing our data\n",
        "# - x, y: column names for x and y axes\n",
        "# - hue: column name for color mapping\n",
        "\n",
        "plt.figure(figsize=(10, 6))\n",
        "sns.scatterplot(data=df_homes, x=\"finsqft\", y=\"totalvalue\", hue=\"city\")\n",
        "plt.savefig(\"../temp/homes_scatterplot.pdf\", dpi=300, bbox_inches=\"tight\")\n",
        "plt.close()  # Close the figure to free memory\n",
        "\n",
        "print(\"Scatterplot saved to temp/homes_scatterplot.pdf\")\n"
      ]
    },
    {
      "cell_type": "code",
      "execution_count": null,
      "metadata": {},
      "outputs": [],
      "source": [
        "# 2.4 Saving plots\n",
        "# We can create a plot and save it with different specifications\n",
        "\n",
        "plt.figure(figsize=(12, 4))  # Wide format\n",
        "sns.scatterplot(data=df_homes, x=\"finsqft\", y=\"totalvalue\", hue=\"city\")\n",
        "plt.savefig(\"../temp/homes_scatterplot_wide.pdf\", dpi=1000, bbox_inches=\"tight\")\n",
        "plt.close()\n",
        "\n",
        "print(\"Wide scatterplot saved to temp/homes_scatterplot_wide.pdf\")\n"
      ]
    },
    {
      "cell_type": "markdown",
      "metadata": {},
      "source": [
        "### 2.5 Getting fancier\n"
      ]
    },
    {
      "cell_type": "code",
      "execution_count": null,
      "metadata": {},
      "outputs": [],
      "source": [
        "# 2.5.1 Using shapes and colors as aesthetics\n",
        "# You can use both color and shape to distinguish between cities\n",
        "\n",
        "plt.figure(figsize=(12, 4))\n",
        "sns.scatterplot(data=df_homes, x=\"finsqft\", y=\"totalvalue\", hue=\"city\", style=\"city\")\n",
        "plt.savefig(\"../temp/homes_scatterplot_shapes.pdf\", dpi=1000, bbox_inches=\"tight\")\n",
        "plt.close()\n",
        "\n",
        "print(\"Scatterplot with shapes saved to temp/homes_scatterplot_shapes.pdf\")\n"
      ]
    },
    {
      "cell_type": "code",
      "execution_count": null,
      "metadata": {},
      "outputs": [],
      "source": [
        "# 2.5.2 Filtering to one city\n",
        "# Filter data to only Scottsville\n",
        "\n",
        "df_scottsville = df_homes[df_homes[\"city\"] == \"SCOTTSVILLE\"]\n",
        "\n",
        "plt.figure(figsize=(12, 4))\n",
        "sns.scatterplot(data=df_scottsville, x=\"finsqft\", y=\"totalvalue\", hue=\"city\")\n",
        "plt.savefig(\"../temp/homes_scatterplot_scottsville.pdf\", dpi=1000, bbox_inches=\"tight\")\n",
        "plt.close()\n",
        "\n",
        "print(\"Scottsville-only plot saved to temp/homes_scatterplot_scottsville.pdf\")\n"
      ]
    },
    {
      "cell_type": "code",
      "execution_count": null,
      "metadata": {},
      "outputs": [],
      "source": [
        "# 2.5.3 Bedroom size and condition as aesthetics\n",
        "plt.figure(figsize=(12, 4))\n",
        "sns.scatterplot(\n",
        "    data=df_scottsville, x=\"finsqft\", y=\"totalvalue\", hue=\"condition\", size=\"bedroom\"\n",
        ")\n",
        "plt.savefig(\n",
        "    \"../temp/homes_scatterplot_scottsville_bdrmsize.pdf\", dpi=1000, bbox_inches=\"tight\"\n",
        ")\n",
        "plt.close()\n",
        "\n",
        "# Note: Two new legends, this can be a lot of information on one plot!\n",
        "print(\"Complex scatterplot saved to temp/homes_scatterplot_scottsville_bdrmsize.pdf\")\n"
      ]
    },
    {
      "cell_type": "code",
      "execution_count": null,
      "metadata": {},
      "outputs": [],
      "source": [
        "# 2.6 Multiple plot elements\n",
        "# We can add trend lines to summarize relationships\n",
        "\n",
        "plt.figure(figsize=(10, 6))\n",
        "sns.scatterplot(data=df_homes, x=\"finsqft\", y=\"totalvalue\", hue=\"city\")\n",
        "\n",
        "# Add regression lines for each city\n",
        "sns.regplot(\n",
        "    data=df_homes,\n",
        "    x=\"finsqft\",\n",
        "    y=\"totalvalue\",\n",
        "    scatter=False,  # Don't show points again, just the line\n",
        "    color=\"gray\",\n",
        "    ax=plt.gca(),  # Add to current plot\n",
        ")\n",
        "plt.savefig(\"../temp/homes_scatterplot_smooth.pdf\", dpi=1000, bbox_inches=\"tight\")\n",
        "plt.close()\n",
        "\n",
        "print(\"Scatterplot with trend line saved to temp/homes_scatterplot_smooth.pdf\")\n"
      ]
    },
    {
      "cell_type": "markdown",
      "metadata": {},
      "source": [
        "## 3. Making plots prettier\n"
      ]
    },
    {
      "cell_type": "code",
      "execution_count": null,
      "metadata": {},
      "outputs": [],
      "source": [
        "# 3.1 Faceting (subplots)\n",
        "# Create separate plots for each city using FacetGrid\n",
        "\n",
        "# Three columns layout\n",
        "g = sns.FacetGrid(df_homes, col=\"city\", col_wrap=3, height=4)\n",
        "g.map(sns.scatterplot, \"finsqft\", \"totalvalue\")\n",
        "g.savefig(\"../temp/homes_facetwrap_city.pdf\", dpi=1000, bbox_inches=\"tight\")\n",
        "plt.close()\n",
        "\n",
        "print(\"Faceted plot (3 columns) saved to temp/homes_facetwrap_city.pdf\")\n"
      ]
    },
    {
      "cell_type": "code",
      "execution_count": null,
      "metadata": {},
      "outputs": [],
      "source": [
        "# Two columns layout\n",
        "g = sns.FacetGrid(df_homes, col=\"city\", col_wrap=2, height=4)\n",
        "g.map(sns.scatterplot, \"finsqft\", \"totalvalue\")\n",
        "g.savefig(\"../temp/homes_facetwrap_city_2cols.pdf\", dpi=1000, bbox_inches=\"tight\")\n",
        "plt.close()\n",
        "\n",
        "print(\"Faceted plot (2 columns) saved to temp/homes_facetwrap_city_2cols.pdf\")\n"
      ]
    },
    {
      "cell_type": "code",
      "execution_count": null,
      "metadata": {},
      "outputs": [],
      "source": [
        "# Use FacetGrid with rows (each city gets its own row)\n",
        "g = sns.FacetGrid(df_homes, row=\"city\", height=3, aspect=2)\n",
        "g.map(sns.scatterplot, \"finsqft\", \"totalvalue\")\n",
        "g.savefig(\"../temp/homes_facetgrid_city.pdf\", dpi=1000, bbox_inches=\"tight\")\n",
        "plt.close()\n",
        "\n",
        "print(\"Faceted plot (by rows) saved to temp/homes_facetgrid_city.pdf\")\n"
      ]
    },
    {
      "cell_type": "code",
      "execution_count": null,
      "metadata": {},
      "outputs": [],
      "source": [
        "# 3.2 Changing the coordinate limits\n",
        "plt.figure(figsize=(10, 6))\n",
        "sns.scatterplot(data=df_homes, x=\"finsqft\", y=\"totalvalue\", hue=\"city\")\n",
        "\n",
        "# Zoom in on a specific range\n",
        "plt.xlim(2000, 3000)  # Only show houses between 2000-3000 sq ft\n",
        "plt.ylim(200000, 500000)  # Only show houses between $200k-500k\n",
        "\n",
        "plt.savefig(\"../temp/homes_coord.pdf\", dpi=1000, bbox_inches=\"tight\")\n",
        "plt.close()\n",
        "\n",
        "print(\"Zoomed plot saved to temp/homes_coord.pdf\")\n"
      ]
    },
    {
      "cell_type": "code",
      "execution_count": null,
      "metadata": {},
      "outputs": [],
      "source": [
        "# 3.3 Customizing scales and formatting\n",
        "plt.figure(figsize=(10, 6))\n",
        "sns.scatterplot(data=df_homes, x=\"finsqft\", y=\"totalvalue\", hue=\"city\")\n",
        "\n",
        "# Add better labels to make the plot more readable\n",
        "plt.title(\"Home Values by Size and City\")\n",
        "plt.xlabel(\"Finished Square Feet\")\n",
        "plt.ylabel(\"Total Value (USD)\")\n",
        "\n",
        "plt.savefig(\"../temp/homes_scales_labels.pdf\", dpi=1000, bbox_inches=\"tight\")\n",
        "plt.close()\n",
        "\n",
        "print(\"Plot with better labels saved to temp/homes_scales_labels.pdf\")\n"
      ]
    },
    {
      "cell_type": "code",
      "execution_count": null,
      "metadata": {},
      "outputs": [],
      "source": [
        "# 3.4 Changing the theme/style\n",
        "# Set a minimal style\n",
        "sns.set_style(\"whitegrid\")\n",
        "plt.figure(figsize=(10, 6))\n",
        "sns.scatterplot(data=df_homes, x=\"finsqft\", y=\"totalvalue\", hue=\"city\")\n",
        "plt.savefig(\"../temp/homes_minimal.pdf\", dpi=1000, bbox_inches=\"tight\")\n",
        "plt.close()\n",
        "\n",
        "# Reset to default style\n",
        "sns.set_style(\"darkgrid\")\n",
        "\n",
        "print(\"Minimal style plot saved to temp/homes_minimal.pdf\")\n"
      ]
    },
    {
      "cell_type": "code",
      "execution_count": null,
      "metadata": {},
      "outputs": [],
      "source": [
        "# 3.5 More informative labels\n",
        "plt.figure(figsize=(10, 6))\n",
        "sns.scatterplot(data=df_homes, x=\"finsqft\", y=\"totalvalue\", hue=\"city\")\n",
        "plt.title(\"House value as a function of size\")\n",
        "plt.xlabel(\"Finished Square Feet\")\n",
        "plt.ylabel(\"Total Value (USD)\")\n",
        "plt.savefig(\"../temp/homes_labels.pdf\", dpi=1000, bbox_inches=\"tight\")\n",
        "plt.close()\n",
        "\n",
        "print(\"Plot with informative labels saved to temp/homes_labels.pdf\")\n"
      ]
    },
    {
      "cell_type": "markdown",
      "metadata": {},
      "source": [
        "## 4. Bonus: Statistical transformations and other plot types\n"
      ]
    },
    {
      "cell_type": "code",
      "execution_count": null,
      "metadata": {},
      "outputs": [],
      "source": [
        "# 4.1 Boxplots for distribution analysis\n",
        "# Boxplots show distribution of finsqft by city\n",
        "# The box shows 25th to 75th percentiles\n",
        "# The line in the middle is the median\n",
        "# Whiskers extend to 1.5*IQR from the box\n",
        "# Points beyond whiskers might be considered outliers\n",
        "\n",
        "plt.figure(figsize=(12, 6))\n",
        "sns.boxplot(data=df_homes, x=\"city\", y=\"finsqft\")\n",
        "plt.xticks(rotation=45)  # Rotate city names for readability\n",
        "plt.savefig(\"../temp/homes_boxplot.pdf\", dpi=1000, bbox_inches=\"tight\")\n",
        "plt.close()\n",
        "\n",
        "print(\"Boxplot saved to temp/homes_boxplot.pdf\")\n"
      ]
    },
    {
      "cell_type": "code",
      "execution_count": null,
      "metadata": {},
      "outputs": [],
      "source": [
        "# 4.2 Histograms for distribution visualization\n",
        "# Create histograms for each city using FacetGrid\n",
        "\n",
        "g = sns.FacetGrid(df_homes, row=\"city\", height=3, aspect=2)\n",
        "g.map(plt.hist, \"finsqft\", bins=20, alpha=0.7)\n",
        "g.savefig(\"../temp/homes_facetgrid_city_counts.pdf\", dpi=1000, bbox_inches=\"tight\")\n",
        "plt.close()\n",
        "\n",
        "print(\"Histogram facets saved to temp/homes_facetgrid_city_counts.pdf\")\n"
      ]
    },
    {
      "cell_type": "code",
      "execution_count": null,
      "metadata": {},
      "outputs": [],
      "source": [
        "# Alternative: A simpler approach using individual plots\n",
        "# Let's create histograms for a few specific cities to keep it simple\n",
        "cities_to_plot = [\"CHARLOTTESVILLE\", \"CROZET\", \"SCOTTSVILLE\"]\n",
        "\n",
        "for city in cities_to_plot:\n",
        "    # Filter data for this city\n",
        "    city_data = df_homes[df_homes[\"city\"] == city]\n",
        "    \n",
        "    # Create a histogram for this city\n",
        "    plt.figure(figsize=(8, 5))\n",
        "    sns.histplot(data=city_data, x=\"finsqft\", bins=20)\n",
        "    plt.title(f\"Distribution of House Sizes in {city}\")\n",
        "    plt.xlabel(\"Finished Square Feet\")\n",
        "    plt.ylabel(\"Number of Houses\")\n",
        "    \n",
        "    # Save each plot separately\n",
        "    filename = f\"../temp/homes_histogram_{city.lower().replace(' ', '_')}.pdf\"\n",
        "    plt.savefig(filename, dpi=1000, bbox_inches=\"tight\")\n",
        "    plt.close()\n",
        "    \n",
        "    print(f\"Histogram for {city} saved to {filename}\")\n"
      ]
    },
    {
      "cell_type": "code",
      "execution_count": null,
      "metadata": {},
      "outputs": [],
      "source": [
        "# 4.3 Bonus: Correlation heatmap\n",
        "# A correlation heatmap shows how different variables relate to each other\n",
        "# Let's look at just a few key variables to keep it simple\n",
        "\n",
        "# Select key numeric variables\n",
        "key_variables = [\"finsqft\", \"totalvalue\", \"bedroom\", \"lotsize\"]\n",
        "homes_subset = df_homes[key_variables]\n",
        "\n",
        "# Calculate correlations between these variables\n",
        "correlation_matrix = homes_subset.corr()\n",
        "\n",
        "plt.figure(figsize=(8, 6))\n",
        "sns.heatmap(\n",
        "    correlation_matrix,\n",
        "    annot=True,  # Show the correlation numbers\n",
        "    cmap=\"coolwarm\",  # Color scheme: blue=negative, red=positive\n",
        "    center=0,  # Center the color scale at 0\n",
        ")\n",
        "plt.title(\"How Home Features Relate to Each Other\")\n",
        "plt.savefig(\"../temp/homes_correlation_heatmap.pdf\", dpi=1000, bbox_inches=\"tight\")\n",
        "plt.close()\n",
        "\n",
        "print(\"Correlation heatmap saved to temp/homes_correlation_heatmap.pdf\")\n"
      ]
    },
    {
      "cell_type": "code",
      "execution_count": null,
      "metadata": {},
      "outputs": [],
      "source": [
        "# 4.4 Bonus: Pairplot for multiple relationships\n",
        "# A pairplot shows relationships between multiple variables at once\n",
        "# This creates a grid where each variable is plotted against every other variable\n",
        "\n",
        "# Select key variables we want to compare\n",
        "key_vars = [\"finsqft\", \"totalvalue\", \"bedroom\", \"lotsize\"]\n",
        "\n",
        "# Remove any rows with missing data\n",
        "plot_data = df_homes[key_vars + [\"city\"]].dropna()\n",
        "\n",
        "# Create the pairplot (this may take a moment to generate)\n",
        "g = sns.pairplot(data=plot_data, hue=\"city\", height=2.5)\n",
        "g.fig.suptitle(\"Relationships Between All Home Features\", y=1.02)\n",
        "g.savefig(\"../temp/homes_pairplot.pdf\", dpi=1000, bbox_inches=\"tight\")\n",
        "plt.close()\n",
        "\n",
        "print(\"Pairplot saved to temp/homes_pairplot.pdf\")\n"
      ]
    },
    {
      "cell_type": "markdown",
      "metadata": {},
      "source": [
        "---\n",
        "\n",
        "## 🎉 FIN!!\n",
        "\n",
        "### Recap:\n",
        "We learned how to create high-quality visualizations using matplotlib and seaborn. We covered:\n",
        "- Basic scatter plots and customization\n",
        "- Faceting/subplots for comparing groups\n",
        "- Statistical plots (boxplots, histograms)\n",
        "- Advanced visualizations (heatmaps, pairplots)\n",
        "\n",
        "### Next:\n",
        "We'll learn how to combine and merge datasets\n",
        "\n",
        "---\n"
      ]
    }
  ],
  "metadata": {
    "kernelspec": {
      "display_name": ".venv",
      "language": "python",
      "name": "python3"
    },
    "language_info": {
      "codemirror_mode": {
        "name": "ipython",
        "version": 3
      },
      "file_extension": ".py",
      "mimetype": "text/x-python",
      "name": "python",
      "nbconvert_exporter": "python",
      "pygments_lexer": "ipython3",
      "version": "3.12.3"
    }
  },
  "nbformat": 4,
  "nbformat_minor": 2
}
