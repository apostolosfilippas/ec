{
 "cells": [
  {
   "cell_type": "markdown",
   "metadata": {},
   "source": [
    "---\n",
    "\n",
    "### 🎓 **Professor**: Apostolos Filippas\n",
    "\n",
    "### 📘 **Class**: E-Commerce\n",
    "\n",
    "### 📋 **Topic**: Pricing Behavior Analysis with Python\n",
    "\n",
    "🚫 **Note**: You are not allowed to share the contents of this notebook with anyone outside this class without written permission by the professor.\n",
    "\n",
    "---\n"
   ]
  },
  {
   "cell_type": "markdown",
   "metadata": {},
   "source": [
    "## Overview\n",
    "\n",
    "Let's use our Python knowledge to see how often providers in a two-sided market change their prices. This analysis will help us understand pricing dynamics and seller behavior in digital marketplaces.\n",
    "\n",
    "**What we'll learn:**\n",
    "- How to analyze pricing behavior over time\n",
    "- How to calculate price change frequencies\n",
    "- How to visualize distribution patterns\n",
    "- Understanding seller behavior in digital markets\n"
   ]
  },
  {
   "cell_type": "code",
   "execution_count": 1,
   "metadata": {
    "execution": {
     "iopub.execute_input": "2025-08-27T19:51:52.825525Z",
     "iopub.status.busy": "2025-08-27T19:51:52.825272Z",
     "iopub.status.idle": "2025-08-27T19:51:53.546307Z",
     "shell.execute_reply": "2025-08-27T19:51:53.546053Z"
    }
   },
   "outputs": [
    {
     "name": "stdout",
     "output_type": "stream",
     "text": [
      "Dataset loaded successfully!\n",
      "Dataset shape: (13947, 7)\n",
      "Columns: ['car', 'time', 'price_hourly', 'price_daily', 'price_weekly', 'time_t', 'time_m']\n",
      "Sample of price data:\n",
      "                                car        time  price_hourly  price_daily  \\\n",
      "0  a1a4d29da200a81795af62deac0b542a  2017-07-05          8.50         85.0   \n",
      "1  143bd43db06de80e4b959c61d58baf1f  2017-05-26         11.00        110.0   \n",
      "2  c1badba345b48076a6229a6898e43fb6  2017-01-31          7.25         72.5   \n",
      "3  7bdd5959f36e9daecb07773018bfe984  2017-03-20          7.50         75.0   \n",
      "4  b542eb33130d4bf71db965f073c01106  2017-05-18          8.00         80.0   \n",
      "5  2947dd5eb6135bfec436453e2d02cb8b  2017-01-11          6.00         60.0   \n",
      "6  e547026f15cd00a1853edf4116a1fe9e  2017-06-23          9.75         97.5   \n",
      "7  0991b1e67d001c31d189458c09065dbd  2017-07-11         14.75        147.5   \n",
      "8  6e5080205cc36281c41df0a55e7ba0c1  2017-04-14          6.50         65.0   \n",
      "9  c3c2782e8d1b02b21446a22f3b17188d  2017-07-27         10.50        105.0   \n",
      "\n",
      "   price_weekly      time_t  time_m  \n",
      "0           NaN  287.136905      66  \n",
      "1         660.0  281.422619      64  \n",
      "2           NaN  265.000000      60  \n",
      "3         450.0  271.851190      62  \n",
      "4           NaN  280.279762      64  \n",
      "5         360.0  262.142857      60  \n",
      "6           NaN  285.422619      65  \n",
      "7           NaN  287.994048      66  \n",
      "8         390.0  275.422619      63  \n",
      "9           NaN  290.279762      66  \n",
      "Time range: 60 to 66\n",
      "Number of unique cars: 1293\n",
      "Total observations: 13947\n"
     ]
    }
   ],
   "source": [
    "# Let's import the libraries we will use\n",
    "import matplotlib.pyplot as plt\n",
    "import numpy as np\n",
    "import pandas as pd\n",
    "import seaborn as sns\n",
    "\n",
    "# Load the prices dataset\n",
    "df_prices = pd.read_csv(\"../data/prices.csv\")\n",
    "\n",
    "print(\"Dataset loaded successfully!\")\n",
    "print(f\"Dataset shape: {df_prices.shape}\")\n",
    "print(f\"Columns: {df_prices.columns.tolist()}\")\n",
    "\n",
    "# This is price data simulated from a real marketplace\n",
    "# We want to figure out how often providers change their prices!\n",
    "\n",
    "print(\"Sample of price data:\")\n",
    "print(df_prices.head(10))\n",
    "\n",
    "print(f\"Time range: {df_prices['time_m'].min()} to {df_prices['time_m'].max()}\")\n",
    "print(f\"Number of unique cars: {df_prices['car'].nunique()}\")\n",
    "print(f\"Total observations: {len(df_prices)}\")\n"
   ]
  },
  {
   "cell_type": "code",
   "execution_count": 2,
   "metadata": {
    "execution": {
     "iopub.execute_input": "2025-08-27T19:51:53.563867Z",
     "iopub.status.busy": "2025-08-27T19:51:53.563758Z",
     "iopub.status.idle": "2025-08-27T19:51:53.569268Z",
     "shell.execute_reply": "2025-08-27T19:51:53.569015Z"
    }
   },
   "outputs": [
    {
     "name": "stdout",
     "output_type": "stream",
     "text": [
      "Sample of price changes data:\n",
      "                                car   n  start_t  end_t  price_changes\n",
      "0  003c48e899a10ea2bd3f20cbf6f6a142   2       65     65       2.000000\n",
      "1  00639b4076c1b3129f0a323fd0df0c2a   2       60     61       1.000000\n",
      "2  00ac4278506ab502a71ba86b3d4bf80d  30       60     66       4.285714\n",
      "3  00f09eb1e57d833580aef526264298b8   5       62     65       1.250000\n",
      "4  00f24d31144882dcb60ebae30cf4af47   4       62     63       2.000000\n",
      "Average observations per car: 10.79\n",
      "Average price changes per period: 3.320\n"
     ]
    }
   ],
   "source": [
    "# Calculate price changes per car\n",
    "# For each car, we want to know how many times they changed their price\n",
    "# relative to how long they were in the dataset\n",
    "\n",
    "df_changes = (\n",
    "    df_prices.groupby(\"car\").agg({\"time_m\": [\"count\", \"min\", \"max\"]}).reset_index()\n",
    ")\n",
    "\n",
    "# Flatten column names\n",
    "df_changes.columns = [\"car\", \"n\", \"start_t\", \"end_t\"]\n",
    "\n",
    "# Calculate price changes rate\n",
    "df_changes[\"price_changes\"] = df_changes[\"n\"] / (df_changes[\"end_t\"] - df_changes[\"start_t\"] + 1)\n",
    "\n",
    "print(\"Sample of price changes data:\")\n",
    "print(df_changes.head())\n",
    "\n",
    "print(f\"Average observations per car: {df_changes['n'].mean():.2f}\")\n",
    "print(f\"Average price changes per period: {df_changes['price_changes'].mean():.3f}\")\n"
   ]
  },
  {
   "cell_type": "code",
   "execution_count": 3,
   "metadata": {
    "execution": {
     "iopub.execute_input": "2025-08-27T19:51:53.570454Z",
     "iopub.status.busy": "2025-08-27T19:51:53.570350Z",
     "iopub.status.idle": "2025-08-27T19:51:53.578189Z",
     "shell.execute_reply": "2025-08-27T19:51:53.577978Z"
    }
   },
   "outputs": [
    {
     "name": "stdout",
     "output_type": "stream",
     "text": [
      "Price change bins:\n",
      "score_bins\n",
      "[0.0, 1.0)       96\n",
      "[1.0, 2.0)      498\n",
      "[2.0, 3.0)      288\n",
      "[3.0, 4.0)      132\n",
      "[4.0, 5.0)       67\n",
      "[5.0, 6.0)       54\n",
      "[6.0, 10.0)      54\n",
      "[10.0, 15.0)     45\n",
      "[15.0, 29.0)     58\n",
      "Name: count, dtype: int64\n",
      "Binned data for visualization:\n",
      "     score_bins  num_obs  total       pct      ecdf\n",
      "0    [0.0, 1.0)       96   1292  0.074303  0.074303\n",
      "1    [1.0, 2.0)      498   1292  0.385449  0.459752\n",
      "2    [2.0, 3.0)      288   1292  0.222910  0.682663\n",
      "3    [3.0, 4.0)      132   1292  0.102167  0.784830\n",
      "4    [4.0, 5.0)       67   1292  0.051858  0.836687\n",
      "5    [5.0, 6.0)       54   1292  0.041796  0.878483\n",
      "6   [6.0, 10.0)       54   1292  0.041796  0.920279\n",
      "7  [10.0, 15.0)       45   1292  0.034830  0.955108\n",
      "8  [15.0, 29.0)       58   1292  0.044892  1.000000\n"
     ]
    }
   ],
   "source": [
    "# Create bins for price change frequency\n",
    "# Define bin edges for categorizing cars by their price change frequency\n",
    "bin_edges = [0, 1, 2, 3, 4, 5, 6, 10, 15, np.ceil(df_changes[\"price_changes\"].max())]\n",
    "\n",
    "# Create bins\n",
    "df_changes[\"score_bins\"] = pd.cut(\n",
    "    df_changes[\"price_changes\"], bins=bin_edges, include_lowest=True, right=False\n",
    ")\n",
    "\n",
    "print(\"Price change bins:\")\n",
    "print(df_changes[\"score_bins\"].value_counts().sort_index())\n",
    "\n",
    "# Calculate summary statistics for visualization\n",
    "df_bins = (\n",
    "    df_changes.groupby(\"score_bins\", observed=True)\n",
    "    .agg({\"car\": \"count\"})\n",
    "    .rename(columns={\"car\": \"num_obs\"})\n",
    "    .reset_index()\n",
    ")\n",
    "\n",
    "# Calculate percentages\n",
    "total_obs = df_bins[\"num_obs\"].sum()\n",
    "df_bins[\"total\"] = total_obs\n",
    "df_bins[\"pct\"] = df_bins[\"num_obs\"] / total_obs\n",
    "df_bins[\"ecdf\"] = df_bins[\"pct\"].cumsum()\n",
    "\n",
    "print(\"Binned data for visualization:\")\n",
    "print(df_bins)\n"
   ]
  },
  {
   "cell_type": "code",
   "execution_count": 4,
   "metadata": {
    "execution": {
     "iopub.execute_input": "2025-08-27T19:51:53.579288Z",
     "iopub.status.busy": "2025-08-27T19:51:53.579219Z",
     "iopub.status.idle": "2025-08-27T19:51:53.728006Z",
     "shell.execute_reply": "2025-08-27T19:51:53.727727Z"
    }
   },
   "outputs": [
    {
     "name": "stdout",
     "output_type": "stream",
     "text": [
      "Main distribution plot saved to temp/price_changes_distribution.pdf\n"
     ]
    }
   ],
   "source": [
    "# Create the main visualization\n",
    "plt.figure(figsize=(12, 8))\n",
    "\n",
    "# Create bar chart\n",
    "bars = plt.bar(\n",
    "    range(len(df_bins)), df_bins[\"pct\"], color=\"lightgray\", edgecolor=\"black\", alpha=0.8\n",
    ")\n",
    "\n",
    "# Add percentage labels on top of bars\n",
    "for i, (bar, pct) in enumerate(zip(bars, df_bins[\"pct\"])):\n",
    "    plt.text(\n",
    "        bar.get_x() + bar.get_width() / 2,\n",
    "        bar.get_height() + 0.01,\n",
    "        f\"{pct:.1%}\",\n",
    "        ha=\"center\",\n",
    "        va=\"bottom\",\n",
    "        fontsize=10,\n",
    "        fontweight=\"bold\",\n",
    "    )\n",
    "\n",
    "# Add cumulative distribution line\n",
    "plt.plot(\n",
    "    range(len(df_bins)),\n",
    "    df_bins[\"ecdf\"],\n",
    "    color=\"red\",\n",
    "    alpha=0.7,\n",
    "    linestyle=\"--\",\n",
    "    linewidth=2,\n",
    "    marker=\"o\",\n",
    "    label=\"Cumulative Distribution\",\n",
    ")\n",
    "\n",
    "# Formatting\n",
    "plt.xlabel(\"Price Changes per Time Period\", fontsize=14)\n",
    "plt.ylabel(\"Percentage\", fontsize=14)\n",
    "plt.title(\"Distribution of Price Change Frequency\", fontsize=16, fontweight=\"bold\")\n",
    "\n",
    "# Format y-axis as percentages\n",
    "from matplotlib.ticker import PercentFormatter\n",
    "plt.gca().yaxis.set_major_formatter(PercentFormatter(1))\n",
    "plt.ylim(0, 1.05)\n",
    "\n",
    "# Set x-axis labels\n",
    "bin_labels = [str(interval) for interval in df_bins[\"score_bins\"]]\n",
    "plt.xticks(range(len(bin_labels)), bin_labels, rotation=45, ha=\"right\")\n",
    "\n",
    "plt.grid(True, alpha=0.3, axis=\"y\")\n",
    "plt.legend()\n",
    "plt.tight_layout()\n",
    "plt.savefig(\"../temp/price_changes_distribution.pdf\", dpi=1000, bbox_inches=\"tight\")\n",
    "plt.close()\n",
    "\n",
    "print(\"Main distribution plot saved to temp/price_changes_distribution.pdf\")\n"
   ]
  },
  {
   "cell_type": "code",
   "execution_count": 5,
   "metadata": {
    "execution": {
     "iopub.execute_input": "2025-08-27T19:51:53.729196Z",
     "iopub.status.busy": "2025-08-27T19:51:53.729111Z",
     "iopub.status.idle": "2025-08-27T19:51:53.799292Z",
     "shell.execute_reply": "2025-08-27T19:51:53.799049Z"
    }
   },
   "outputs": [
    {
     "name": "stdout",
     "output_type": "stream",
     "text": [
      "Histogram saved to temp/price_changes_histogram.pdf\n"
     ]
    }
   ],
   "source": [
    "# Additional analysis: Price change patterns\n",
    "\n",
    "# Histogram of price changes\n",
    "plt.figure(figsize=(10, 6))\n",
    "plt.hist(\n",
    "    df_changes[\"price_changes\"], bins=30, alpha=0.7, color=\"skyblue\", edgecolor=\"black\"\n",
    ")\n",
    "plt.xlabel(\"Price Changes per Time Period\")\n",
    "plt.ylabel(\"Number of Cars\")\n",
    "plt.title(\"Histogram of Price Change Frequency\")\n",
    "plt.grid(True, alpha=0.3, axis=\"y\")\n",
    "\n",
    "# Add vertical line for mean\n",
    "mean_changes = df_changes[\"price_changes\"].mean()\n",
    "plt.axvline(\n",
    "    mean_changes,\n",
    "    color=\"red\",\n",
    "    linestyle=\"--\",\n",
    "    linewidth=2,\n",
    "    label=f\"Mean: {mean_changes:.3f}\",\n",
    ")\n",
    "plt.legend()\n",
    "plt.tight_layout()\n",
    "plt.savefig(\"../temp/price_changes_histogram.pdf\", dpi=1000, bbox_inches=\"tight\")\n",
    "plt.close()\n",
    "\n",
    "print(\"Histogram saved to temp/price_changes_histogram.pdf\")\n"
   ]
  },
  {
   "cell_type": "code",
   "execution_count": 6,
   "metadata": {
    "execution": {
     "iopub.execute_input": "2025-08-27T19:51:53.800431Z",
     "iopub.status.busy": "2025-08-27T19:51:53.800355Z",
     "iopub.status.idle": "2025-08-27T19:51:53.805511Z",
     "shell.execute_reply": "2025-08-27T19:51:53.805291Z"
    }
   },
   "outputs": [
    {
     "name": "stdout",
     "output_type": "stream",
     "text": [
      "\n",
      "==================================================\n",
      "SUMMARY STATISTICS\n",
      "==================================================\n",
      "Total number of cars analyzed: 1,293\n",
      "Average price changes per period: 3.320\n",
      "Median price changes per period: 2.000\n",
      "Standard deviation: 4.231\n",
      "Minimum price changes per period: 0.286\n",
      "Maximum price changes per period: 29.000\n",
      "\n",
      "Percentiles of price changes per period:\n",
      "25th percentile: 1.000\n",
      "50th percentile: 2.000\n",
      "75th percentile: 3.000\n",
      "90th percentile: 7.500\n",
      "95th percentile: 13.800\n",
      "99th percentile: 21.011\n",
      "\n",
      "Price change frequency categories:\n",
      "[0.0, 1.0): 96 cars (7.4%)\n",
      "[1.0, 2.0): 498 cars (38.5%)\n",
      "[2.0, 3.0): 288 cars (22.3%)\n",
      "[3.0, 4.0): 132 cars (10.2%)\n",
      "[4.0, 5.0): 67 cars (5.2%)\n",
      "[5.0, 6.0): 54 cars (4.2%)\n",
      "[6.0, 10.0): 54 cars (4.2%)\n",
      "[10.0, 15.0): 45 cars (3.5%)\n",
      "[15.0, 29.0): 58 cars (4.5%)\n"
     ]
    }
   ],
   "source": [
    "# Summary statistics\n",
    "print(\"\\n\" + \"=\" * 50)\n",
    "print(\"SUMMARY STATISTICS\")\n",
    "print(\"=\" * 50)\n",
    "\n",
    "print(f\"Total number of cars analyzed: {len(df_changes):,}\")\n",
    "print(f\"Average price changes per period: {df_changes['price_changes'].mean():.3f}\")\n",
    "print(f\"Median price changes per period: {df_changes['price_changes'].median():.3f}\")\n",
    "print(f\"Standard deviation: {df_changes['price_changes'].std():.3f}\")\n",
    "print(f\"Minimum price changes per period: {df_changes['price_changes'].min():.3f}\")\n",
    "print(f\"Maximum price changes per period: {df_changes['price_changes'].max():.3f}\")\n",
    "\n",
    "# Percentiles\n",
    "percentiles = [25, 50, 75, 90, 95, 99]\n",
    "print(\"\\nPercentiles of price changes per period:\")\n",
    "for p in percentiles:\n",
    "    value = np.percentile(df_changes[\"price_changes\"], p)\n",
    "    print(f\"{p}th percentile: {value:.3f}\")\n",
    "\n",
    "# Categories analysis\n",
    "print(\"\\nPrice change frequency categories:\")\n",
    "total_cars = len(df_changes)\n",
    "for category, count in df_changes[\"score_bins\"].value_counts().sort_index().items():\n",
    "    percentage = (count / total_cars) * 100\n",
    "    print(f\"{category}: {count:,} cars ({percentage:.1f}%)\")\n"
   ]
  },
  {
   "cell_type": "markdown",
   "metadata": {},
   "source": [
    "---\n",
    "\n",
    "## 🎉 Summary\n",
    "\n",
    "We analyzed pricing behavior in an online marketplace and found:\n",
    "- **Price change frequency** analysis by seller\n",
    "- **Distribution patterns** of pricing behavior (most sellers change prices infrequently)\n",
    "- **Seller behavior insights** in digital markets\n",
    "- **Statistical analysis** of pricing patterns and market dynamics\n",
    "\n",
    "**Key findings:**\n",
    "- Most sellers change prices infrequently\n",
    "- Distribution is heavily right-skewed\n",
    "- Market activity varies over time\n",
    "- Clear relationship between time in market and pricing behavior\n",
    "\n",
    "This type of analysis helps understand:\n",
    "- Seller pricing strategies\n",
    "- Market efficiency\n",
    "- Competitive dynamics\n",
    "\n",
    "### Next:\n",
    "We'll learn about randomization and experimental design\n",
    "\n",
    "---\n"
   ]
  }
 ],
 "metadata": {
  "kernelspec": {
   "display_name": ".venv",
   "language": "python",
   "name": "python3"
  },
  "language_info": {
   "codemirror_mode": {
    "name": "ipython",
    "version": 3
   },
   "file_extension": ".py",
   "mimetype": "text/x-python",
   "name": "python",
   "nbconvert_exporter": "python",
   "pygments_lexer": "ipython3",
   "version": "3.12.3"
  }
 },
 "nbformat": 4,
 "nbformat_minor": 2
}
