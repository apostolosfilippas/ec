{
  "cells": [
    {
      "cell_type": "markdown",
      "metadata": {},
      "source": [
        "---\n",
        "\n",
        "### 🎓 **Professor**: Apostolos Filippas\n",
        "\n",
        "### 📘 **Class**: E-Commerce\n",
        "\n",
        "### 📋 **Topic**: Pricing Behavior Analysis with Python\n",
        "\n",
        "🚫 **Note**: You are not allowed to share the contents of this notebook with anyone outside this class without written permission by the professor.\n",
        "\n",
        "---\n"
      ]
    },
    {
      "cell_type": "markdown",
      "metadata": {},
      "source": [
        "## Overview\n",
        "\n",
        "Let's use our Python knowledge to see how often providers in a two-sided market change their prices. This analysis will help us understand pricing dynamics and seller behavior in digital marketplaces.\n",
        "\n",
        "**What we'll learn:**\n",
        "- How to analyze pricing behavior over time\n",
        "- How to calculate price change frequencies\n",
        "- How to visualize distribution patterns\n",
        "- Understanding seller behavior in digital markets\n"
      ]
    },
    {
      "cell_type": "code",
      "execution_count": null,
      "metadata": {},
      "outputs": [],
      "source": [
        "# Let's import the libraries we will use\n",
        "import matplotlib.pyplot as plt\n",
        "import numpy as np\n",
        "import pandas as pd\n",
        "import seaborn as sns\n",
        "\n",
        "# Load the prices dataset\n",
        "df_prices = pd.read_csv(\"../data/prices.csv\")\n",
        "\n",
        "print(\"Dataset loaded successfully!\")\n",
        "print(f\"Dataset shape: {df_prices.shape}\")\n",
        "print(f\"Columns: {df_prices.columns.tolist()}\")\n",
        "\n",
        "# This is price data simulated from a real marketplace\n",
        "# We want to figure out how often providers change their prices!\n",
        "\n",
        "print(\"Sample of price data:\")\n",
        "print(df_prices.head(10))\n",
        "\n",
        "print(f\"Time range: {df_prices['time_m'].min()} to {df_prices['time_m'].max()}\")\n",
        "print(f\"Number of unique cars: {df_prices['car'].nunique()}\")\n",
        "print(f\"Total observations: {len(df_prices)}\")\n"
      ]
    },
    {
      "cell_type": "code",
      "execution_count": null,
      "metadata": {},
      "outputs": [],
      "source": [
        "# Calculate price changes per car\n",
        "# For each car, we want to know how many times they changed their price\n",
        "# relative to how long they were in the dataset\n",
        "\n",
        "df_changes = (\n",
        "    df_prices.groupby(\"car\").agg({\"time_m\": [\"count\", \"min\", \"max\"]}).reset_index()\n",
        ")\n",
        "\n",
        "# Flatten column names\n",
        "df_changes.columns = [\"car\", \"n\", \"start_t\", \"end_t\"]\n",
        "\n",
        "# Calculate price changes rate\n",
        "df_changes[\"price_changes\"] = df_changes[\"n\"] / (df_changes[\"end_t\"] - df_changes[\"start_t\"] + 1)\n",
        "\n",
        "print(\"Sample of price changes data:\")\n",
        "print(df_changes.head())\n",
        "\n",
        "print(f\"Average observations per car: {df_changes['n'].mean():.2f}\")\n",
        "print(f\"Average price changes per period: {df_changes['price_changes'].mean():.3f}\")\n"
      ]
    },
    {
      "cell_type": "markdown",
      "metadata": {},
      "source": [
        "---\n",
        "\n",
        "## 🎉 Summary\n",
        "\n",
        "We analyzed pricing behavior in an online marketplace and found:\n",
        "- **Price change frequency** analysis by seller\n",
        "- **Distribution patterns** of pricing behavior\n",
        "- **Seller behavior insights** in digital markets\n",
        "\n",
        "The data reveals how often different sellers adjust their prices, providing insights into market dynamics.\n",
        "\n",
        "### Next:\n",
        "We'll learn about randomization and experimental design\n",
        "\n",
        "---\n"
      ]
    }
  ],
  "metadata": {
    "kernelspec": {
      "display_name": ".venv",
      "language": "python",
      "name": "python3"
    },
    "language_info": {
      "codemirror_mode": {
        "name": "ipython",
        "version": 3
      },
      "file_extension": ".py",
      "mimetype": "text/x-python",
      "name": "python",
      "nbconvert_exporter": "python",
      "pygments_lexer": "ipython3",
      "version": "3.12.3"
    }
  },
  "nbformat": 4,
  "nbformat_minor": 2
}
