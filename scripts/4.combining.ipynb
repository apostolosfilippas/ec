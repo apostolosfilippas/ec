{
 "cells": [
  {
   "cell_type": "markdown",
   "metadata": {},
   "source": [
    "---\n",
    "\n",
    "### 🎓 **Professor**: Apostolos Filippas\n",
    "\n",
    "### 📘 **Class**: E-Commerce\n",
    "\n",
    "### 📋 **Topic**: Combining DataFrames with Python\n",
    "\n",
    "🚫 **Note**: You are not allowed to share the contents of this notebook with anyone outside this class without written permission by the professor.\n",
    "\n",
    "---\n"
   ]
  },
  {
   "cell_type": "markdown",
   "metadata": {},
   "source": [
    "## Overview\n",
    "\n",
    "In real life, our data comes from multiple sources. To perform an analysis, we need to combine dataframes using one or more common `key` variables.\n",
    "\n",
    "**What we'll learn:**\n",
    "- How to merge DataFrames using common keys\n",
    "- Different types of joins (left, inner, outer)\n",
    "- How to concatenate DataFrames\n",
    "- Working with multiple datasets\n"
   ]
  },
  {
   "cell_type": "code",
   "execution_count": 1,
   "metadata": {
    "execution": {
     "iopub.execute_input": "2025-08-27T19:51:48.870523Z",
     "iopub.status.busy": "2025-08-27T19:51:48.870420Z",
     "iopub.status.idle": "2025-08-27T19:51:49.093481Z",
     "shell.execute_reply": "2025-08-27T19:51:49.093243Z"
    }
   },
   "outputs": [
    {
     "name": "stdout",
     "output_type": "stream",
     "text": [
      "Directors data:\n",
      "      surname nationality\n",
      "0   Spielberg          US\n",
      "1    Scorsese          US\n",
      "2   Hitchcock          UK\n",
      "3   Tarantino          US\n",
      "4  Villeneuve      Canada\n"
     ]
    }
   ],
   "source": [
    "# Let's import the libraries we will use\n",
    "import pandas as pd\n",
    "import numpy as np\n",
    "\n",
    "# Creating the data\n",
    "# Let's create our first data frame, consisting of directors, and their nationalities\n",
    "df_directors = pd.DataFrame(\n",
    "    {\n",
    "        \"surname\": [\"Spielberg\", \"Scorsese\", \"Hitchcock\", \"Tarantino\", \"Villeneuve\"],\n",
    "        \"nationality\": [\"US\", \"US\", \"UK\", \"US\", \"Canada\"],\n",
    "    }\n",
    ")\n",
    "\n",
    "print(\"Directors data:\")\n",
    "print(df_directors)\n"
   ]
  },
  {
   "cell_type": "code",
   "execution_count": 2,
   "metadata": {
    "execution": {
     "iopub.execute_input": "2025-08-27T19:51:49.110842Z",
     "iopub.status.busy": "2025-08-27T19:51:49.110726Z",
     "iopub.status.idle": "2025-08-27T19:51:49.113476Z",
     "shell.execute_reply": "2025-08-27T19:51:49.113251Z"
    }
   },
   "outputs": [
    {
     "name": "stdout",
     "output_type": "stream",
     "text": [
      "Movies data:\n",
      "      surname             title  movie_id      genre\n",
      "0   Spielberg  Schindler's List         1      Drama\n",
      "1    Scorsese        Goodfellas         2      Crime\n",
      "2   Hitchcock            Psycho         3     Horror\n",
      "3   Hitchcock         The Birds         4   Thriller\n",
      "4   Spielberg              Jaws         5  Adventure\n",
      "5   Tarantino      Pulp Fiction         6      Crime\n",
      "6  Villeneuve              Dune         7     Sci-Fi\n"
     ]
    }
   ],
   "source": [
    "# Create a data frame that has movies and directors\n",
    "df_movies = pd.DataFrame(\n",
    "    {\n",
    "        \"surname\": [\n",
    "            \"Spielberg\",\n",
    "            \"Scorsese\",\n",
    "            \"Hitchcock\",\n",
    "            \"Hitchcock\",\n",
    "            \"Spielberg\",\n",
    "            \"Tarantino\",\n",
    "            \"Villeneuve\",\n",
    "        ],\n",
    "        \"title\": [\n",
    "            \"Schindler's List\",\n",
    "            \"Goodfellas\",\n",
    "            \"Psycho\",\n",
    "            \"The Birds\",\n",
    "            \"Jaws\",\n",
    "            \"Pulp Fiction\",\n",
    "            \"Dune\",\n",
    "        ],\n",
    "        \"movie_id\": [1, 2, 3, 4, 5, 6, 7],\n",
    "        \"genre\": [\"Drama\", \"Crime\", \"Horror\", \"Thriller\", \"Adventure\", \"Crime\", \"Sci-Fi\"],\n",
    "    }\n",
    ")\n",
    "\n",
    "print(\"Movies data:\")\n",
    "print(df_movies)\n"
   ]
  },
  {
   "cell_type": "markdown",
   "metadata": {},
   "source": [
    "## Combining DataFrames\n",
    "\n",
    "### Left Join (Merge)\n",
    "A left join keeps all rows from the left DataFrame and matches rows from the right DataFrame:\n"
   ]
  },
  {
   "cell_type": "code",
   "execution_count": 3,
   "metadata": {
    "execution": {
     "iopub.execute_input": "2025-08-27T19:51:49.114568Z",
     "iopub.status.busy": "2025-08-27T19:51:49.114495Z",
     "iopub.status.idle": "2025-08-27T19:51:49.118354Z",
     "shell.execute_reply": "2025-08-27T19:51:49.118131Z"
    }
   },
   "outputs": [
    {
     "name": "stdout",
     "output_type": "stream",
     "text": [
      "Left join result:\n",
      "      surname             title  movie_id      genre nationality\n",
      "0   Spielberg  Schindler's List         1      Drama          US\n",
      "1    Scorsese        Goodfellas         2      Crime          US\n",
      "2   Hitchcock            Psycho         3     Horror          UK\n",
      "3   Hitchcock         The Birds         4   Thriller          UK\n",
      "4   Spielberg              Jaws         5  Adventure          US\n",
      "5   Tarantino      Pulp Fiction         6      Crime          US\n",
      "6  Villeneuve              Dune         7     Sci-Fi      Canada\n"
     ]
    }
   ],
   "source": [
    "# Left join: movies with director info\n",
    "# This keeps all movies and adds director nationality where available\n",
    "df_combined_left = df_movies.merge(df_directors, on=\"surname\", how=\"left\")\n",
    "\n",
    "print(\"Left join result:\")\n",
    "print(df_combined_left)\n"
   ]
  },
  {
   "cell_type": "markdown",
   "metadata": {},
   "source": [
    "### Different Types of Joins\n",
    "\n",
    "Let's explore different join types to understand how they handle missing matches:\n"
   ]
  },
  {
   "cell_type": "code",
   "execution_count": 4,
   "metadata": {
    "execution": {
     "iopub.execute_input": "2025-08-27T19:51:49.119415Z",
     "iopub.status.busy": "2025-08-27T19:51:49.119339Z",
     "iopub.status.idle": "2025-08-27T19:51:49.124079Z",
     "shell.execute_reply": "2025-08-27T19:51:49.123875Z"
    }
   },
   "outputs": [
    {
     "name": "stdout",
     "output_type": "stream",
     "text": [
      "Inner join result:\n",
      "      surname             title  movie_id      genre nationality\n",
      "0   Spielberg  Schindler's List         1      Drama          US\n",
      "1    Scorsese        Goodfellas         2      Crime          US\n",
      "2   Hitchcock            Psycho         3     Horror          UK\n",
      "3   Hitchcock         The Birds         4   Thriller          UK\n",
      "4   Spielberg              Jaws         5  Adventure          US\n",
      "5   Tarantino      Pulp Fiction         6      Crime          US\n",
      "6  Villeneuve              Dune         7     Sci-Fi      Canada\n",
      "Shape: (7, 5)\n",
      "\n",
      "==================================================\n",
      "Outer join result:\n",
      "      surname             title  movie_id      genre nationality\n",
      "0   Hitchcock            Psycho         3     Horror          UK\n",
      "1   Hitchcock         The Birds         4   Thriller          UK\n",
      "2    Scorsese        Goodfellas         2      Crime          US\n",
      "3   Spielberg  Schindler's List         1      Drama          US\n",
      "4   Spielberg              Jaws         5  Adventure          US\n",
      "5   Tarantino      Pulp Fiction         6      Crime          US\n",
      "6  Villeneuve              Dune         7     Sci-Fi      Canada\n",
      "Shape: (7, 5)\n",
      "\n",
      "==================================================\n",
      "Right join result:\n",
      "      surname             title  movie_id      genre nationality\n",
      "0   Spielberg  Schindler's List         1      Drama          US\n",
      "1   Spielberg              Jaws         5  Adventure          US\n",
      "2    Scorsese        Goodfellas         2      Crime          US\n",
      "3   Hitchcock            Psycho         3     Horror          UK\n",
      "4   Hitchcock         The Birds         4   Thriller          UK\n",
      "5   Tarantino      Pulp Fiction         6      Crime          US\n",
      "6  Villeneuve              Dune         7     Sci-Fi      Canada\n",
      "Shape: (7, 5)\n"
     ]
    }
   ],
   "source": [
    "# Inner join: only rows that match in both DataFrames\n",
    "df_combined_inner = df_movies.merge(df_directors, on=\"surname\", how=\"inner\")\n",
    "print(\"Inner join result:\")\n",
    "print(df_combined_inner)\n",
    "print(f\"Shape: {df_combined_inner.shape}\")\n",
    "\n",
    "print(\"\\n\" + \"=\"*50)\n",
    "\n",
    "# Outer join: all rows from both DataFrames\n",
    "df_combined_outer = df_movies.merge(df_directors, on=\"surname\", how=\"outer\")\n",
    "print(\"Outer join result:\")\n",
    "print(df_combined_outer)\n",
    "print(f\"Shape: {df_combined_outer.shape}\")\n",
    "\n",
    "print(\"\\n\" + \"=\"*50)\n",
    "\n",
    "# Right join: all rows from right DataFrame\n",
    "df_combined_right = df_movies.merge(df_directors, on=\"surname\", how=\"right\")\n",
    "print(\"Right join result:\")\n",
    "print(df_combined_right)\n",
    "print(f\"Shape: {df_combined_right.shape}\")\n"
   ]
  },
  {
   "cell_type": "markdown",
   "metadata": {},
   "source": [
    "---\n",
    "\n",
    "### 🎓 **Professor**: Apostolos Filippas\n",
    "\n",
    "### 📘 **Class**: E-Commerce\n",
    "\n",
    "### 📋 **Topic**: Combining DataFrames with Python\n",
    "\n",
    "🚫 **Note**: You are not allowed to share the contents of this notebook with anyone outside this class without written permission by the professor.\n",
    "\n",
    "---\n"
   ]
  },
  {
   "cell_type": "markdown",
   "metadata": {},
   "source": [
    "## Overview\n",
    "\n",
    "In real life, our data comes from multiple sources. To perform an analysis, we need to combine dataframes using one or more common `key` variables.\n",
    "\n",
    "**Today we'll learn:**\n",
    "- How to join DataFrames together\n",
    "- Different types of joins (left, right, inner, outer)\n",
    "- How to handle missing matches between datasets\n",
    "- Real-world examples of combining data\n"
   ]
  },
  {
   "cell_type": "markdown",
   "metadata": {},
   "source": [
    "## 1. Data\n"
   ]
  },
  {
   "cell_type": "code",
   "execution_count": 5,
   "metadata": {
    "execution": {
     "iopub.execute_input": "2025-08-27T19:51:49.125164Z",
     "iopub.status.busy": "2025-08-27T19:51:49.125095Z",
     "iopub.status.idle": "2025-08-27T19:51:49.127748Z",
     "shell.execute_reply": "2025-08-27T19:51:49.127538Z"
    }
   },
   "outputs": [
    {
     "name": "stdout",
     "output_type": "stream",
     "text": [
      "Directors DataFrame:\n",
      "      surname nationality\n",
      "0   Spielberg          US\n",
      "1    Scorsese          US\n",
      "2   Hitchcock          UK\n",
      "3   Tarantino          US\n",
      "4  Villeneuve      Canada\n",
      "\n",
      "Movies DataFrame:\n",
      "      surname                title\n",
      "0   Spielberg     Schindler's List\n",
      "1    Scorsese          Taxi Driver\n",
      "2   Hitchcock               Psycho\n",
      "3   Hitchcock   North by Northwest\n",
      "4   Spielberg  Catch Me If You Can\n",
      "5   Tarantino       Reservoir Dogs\n",
      "6  Villeneuve                 Dune\n"
     ]
    }
   ],
   "source": [
    "# Let's import the libraries we will use\n",
    "import pandas as pd\n",
    "import numpy as np\n",
    "\n",
    "# Creating the data\n",
    "\n",
    "# Let's create our first data frame, consisting of directors, and their nationalities\n",
    "df_directors = pd.DataFrame(\n",
    "    {\n",
    "        \"surname\": [\"Spielberg\", \"Scorsese\", \"Hitchcock\", \"Tarantino\", \"Villeneuve\"],\n",
    "        \"nationality\": [\"US\", \"US\", \"UK\", \"US\", \"Canada\"],\n",
    "    }\n",
    ")\n",
    "\n",
    "# Create a data frame that has movies and directors\n",
    "df_movies = pd.DataFrame(\n",
    "    {\n",
    "        \"surname\": [\n",
    "            \"Spielberg\",\n",
    "            \"Scorsese\",\n",
    "            \"Hitchcock\",\n",
    "            \"Hitchcock\",\n",
    "            \"Spielberg\",\n",
    "            \"Tarantino\",\n",
    "            \"Villeneuve\",\n",
    "        ],\n",
    "        \"title\": [\n",
    "            \"Schindler's List\",\n",
    "            \"Taxi Driver\",\n",
    "            \"Psycho\",\n",
    "            \"North by Northwest\",\n",
    "            \"Catch Me If You Can\",\n",
    "            \"Reservoir Dogs\",\n",
    "            \"Dune\",\n",
    "        ],\n",
    "    }\n",
    ")\n",
    "\n",
    "print(\"Directors DataFrame:\")\n",
    "print(df_directors)\n",
    "print(\"\\nMovies DataFrame:\")\n",
    "print(df_movies)\n"
   ]
  },
  {
   "cell_type": "markdown",
   "metadata": {},
   "source": [
    "## 2. Combining dataframes\n",
    "\n",
    "### 2.1 Left Join\n",
    "\n",
    "What if we wanted to create a new dataframe that adds the directors' nationalities to the movies data frame? This is easy in Python using pandas `merge()` function.\n"
   ]
  },
  {
   "cell_type": "code",
   "execution_count": 6,
   "metadata": {
    "execution": {
     "iopub.execute_input": "2025-08-27T19:51:49.128829Z",
     "iopub.status.busy": "2025-08-27T19:51:49.128761Z",
     "iopub.status.idle": "2025-08-27T19:51:49.131641Z",
     "shell.execute_reply": "2025-08-27T19:51:49.131457Z"
    }
   },
   "outputs": [
    {
     "name": "stdout",
     "output_type": "stream",
     "text": [
      "Left join result:\n",
      "      surname                title nationality\n",
      "0   Spielberg     Schindler's List          US\n",
      "1    Scorsese          Taxi Driver          US\n",
      "2   Hitchcock               Psycho          UK\n",
      "3   Hitchcock   North by Northwest          UK\n",
      "4   Spielberg  Catch Me If You Can          US\n",
      "5   Tarantino       Reservoir Dogs          US\n",
      "6  Villeneuve                 Dune      Canada\n"
     ]
    }
   ],
   "source": [
    "df_all = df_movies.merge(df_directors, on=\"surname\", how=\"left\")\n",
    "# Left join keeps all the rows from the left data frame (df_movies),\n",
    "# and adds the columns from the right data frame (df_directors)\n",
    "# if there is a match on the key variable (surname)\n",
    "\n",
    "print(\"Left join result:\")\n",
    "print(df_all.head(20))\n"
   ]
  },
  {
   "cell_type": "code",
   "execution_count": 7,
   "metadata": {
    "execution": {
     "iopub.execute_input": "2025-08-27T19:51:49.132602Z",
     "iopub.status.busy": "2025-08-27T19:51:49.132543Z",
     "iopub.status.idle": "2025-08-27T19:51:49.134696Z",
     "shell.execute_reply": "2025-08-27T19:51:49.134510Z"
    }
   },
   "outputs": [
    {
     "name": "stdout",
     "output_type": "stream",
     "text": [
      "Updated directors DataFrame:\n",
      "      surname nationality\n",
      "0   Spielberg          US\n",
      "1    Scorsese          US\n",
      "2   Hitchcock          UK\n",
      "3   Tarantino          US\n",
      "4  Villeneuve      Canada\n",
      "5  Guadagnino          IT\n",
      "6     Kubrick          US\n",
      "7     Jackson          NZ\n"
     ]
    }
   ],
   "source": [
    "# 2.2 Concatenating dataframes\n",
    "\n",
    "# Let's say we found some new directors, which we want to add\n",
    "# to the original data frame\n",
    "df_directors_new = pd.DataFrame(\n",
    "    {\"surname\": [\"Guadagnino\", \"Kubrick\", \"Jackson\"], \"nationality\": [\"IT\", \"US\", \"NZ\"]}\n",
    ")\n",
    "\n",
    "# we can easily add them to the original data frame using pd.concat()\n",
    "# this \"concatenates\" the new data frame to the original one, row-wise\n",
    "df_directors = pd.concat([df_directors, df_directors_new], ignore_index=True)\n",
    "\n",
    "print(\"Updated directors DataFrame:\")\n",
    "print(df_directors)\n"
   ]
  },
  {
   "cell_type": "code",
   "execution_count": 8,
   "metadata": {
    "execution": {
     "iopub.execute_input": "2025-08-27T19:51:49.135617Z",
     "iopub.status.busy": "2025-08-27T19:51:49.135550Z",
     "iopub.status.idle": "2025-08-27T19:51:49.137639Z",
     "shell.execute_reply": "2025-08-27T19:51:49.137453Z"
    }
   },
   "outputs": [
    {
     "name": "stdout",
     "output_type": "stream",
     "text": [
      "Updated movies DataFrame:\n",
      "      surname                 title\n",
      "0   Spielberg      Schindler's List\n",
      "1    Scorsese           Taxi Driver\n",
      "2   Hitchcock                Psycho\n",
      "3   Hitchcock    North by Northwest\n",
      "4   Spielberg   Catch Me If You Can\n",
      "5   Tarantino        Reservoir Dogs\n",
      "6  Villeneuve                  Dune\n",
      "7  Guadagnino  Call Me By Your Name\n",
      "8     Kubrick          Barry Lyndon\n",
      "9     Fellini         La Dolce Vita\n"
     ]
    }
   ],
   "source": [
    "# Let's do the same with some new movies\n",
    "df_movies_new = pd.DataFrame(\n",
    "    {\n",
    "        \"surname\": [\"Guadagnino\", \"Kubrick\", \"Fellini\"],\n",
    "        \"title\": [\"Call Me By Your Name\", \"Barry Lyndon\", \"La Dolce Vita\"],\n",
    "    }\n",
    ")\n",
    "\n",
    "df_movies = pd.concat([df_movies, df_movies_new], ignore_index=True)\n",
    "\n",
    "print(\"Updated movies DataFrame:\")\n",
    "print(df_movies)\n"
   ]
  },
  {
   "cell_type": "markdown",
   "metadata": {},
   "source": [
    "## 3. Different Types of Joins\n",
    "\n",
    "Now we have some missing matches:\n",
    "- `df_directors` has `Jackson`, but there is no movie by him in `df_movies`\n",
    "- `df_movies` has \"La Dolce Vita\" by `Fellini`, but there is no director by that name in `df_directors`\n",
    "\n",
    "Let's see how different join types handle this.\n"
   ]
  },
  {
   "cell_type": "code",
   "execution_count": 9,
   "metadata": {
    "execution": {
     "iopub.execute_input": "2025-08-27T19:51:49.138566Z",
     "iopub.status.busy": "2025-08-27T19:51:49.138500Z",
     "iopub.status.idle": "2025-08-27T19:51:49.143183Z",
     "shell.execute_reply": "2025-08-27T19:51:49.142976Z"
    }
   },
   "outputs": [
    {
     "name": "stdout",
     "output_type": "stream",
     "text": [
      "Left join with missing matches:\n",
      "      surname                 title nationality\n",
      "0   Spielberg      Schindler's List          US\n",
      "1    Scorsese           Taxi Driver          US\n",
      "2   Hitchcock                Psycho          UK\n",
      "3   Hitchcock    North by Northwest          UK\n",
      "4   Spielberg   Catch Me If You Can          US\n",
      "5   Tarantino        Reservoir Dogs          US\n",
      "6  Villeneuve                  Dune      Canada\n",
      "7  Guadagnino  Call Me By Your Name          IT\n",
      "8     Kubrick          Barry Lyndon          US\n",
      "9     Fellini         La Dolce Vita         NaN\n",
      "\n",
      "==================================================\n",
      "\n",
      "Inner join result:\n",
      "      surname                 title nationality\n",
      "0   Spielberg      Schindler's List          US\n",
      "1    Scorsese           Taxi Driver          US\n",
      "2   Hitchcock                Psycho          UK\n",
      "3   Hitchcock    North by Northwest          UK\n",
      "4   Spielberg   Catch Me If You Can          US\n",
      "5   Tarantino        Reservoir Dogs          US\n",
      "6  Villeneuve                  Dune      Canada\n",
      "7  Guadagnino  Call Me By Your Name          IT\n",
      "8     Kubrick          Barry Lyndon          US\n",
      "\n",
      "==================================================\n",
      "\n",
      "Full/Outer join result:\n",
      "       surname                 title nationality\n",
      "0      Fellini         La Dolce Vita         NaN\n",
      "1   Guadagnino  Call Me By Your Name          IT\n",
      "2    Hitchcock                Psycho          UK\n",
      "3    Hitchcock    North by Northwest          UK\n",
      "4      Jackson                   NaN          NZ\n",
      "5      Kubrick          Barry Lyndon          US\n",
      "6     Scorsese           Taxi Driver          US\n",
      "7    Spielberg      Schindler's List          US\n",
      "8    Spielberg   Catch Me If You Can          US\n",
      "9    Tarantino        Reservoir Dogs          US\n",
      "10  Villeneuve                  Dune      Canada\n"
     ]
    }
   ],
   "source": [
    "# Left join with missing matches\n",
    "df_all = df_movies.merge(df_directors, on=\"surname\", how=\"left\")\n",
    "print(\"Left join with missing matches:\")\n",
    "print(df_all)\n",
    "print(\"\\n\" + \"=\"*50 + \"\\n\")\n",
    "\n",
    "# Inner join - only keep rows that match in both datasets\n",
    "df_all = df_movies.merge(df_directors, on=\"surname\", how=\"inner\")\n",
    "print(\"Inner join result:\")\n",
    "print(df_all)\n",
    "print(\"\\n\" + \"=\"*50 + \"\\n\")\n",
    "\n",
    "# Outer join - keep all rows from both datasets\n",
    "df_all = df_movies.merge(df_directors, on=\"surname\", how=\"outer\")\n",
    "print(\"Full/Outer join result:\")\n",
    "print(df_all)\n"
   ]
  },
  {
   "cell_type": "markdown",
   "metadata": {},
   "source": [
    "---\n",
    "\n",
    "## 🎉 Summary\n",
    "\n",
    "### Key Join Types:\n",
    "- **Left join** (`how=\"left\"`): Keep all rows from left DataFrame\n",
    "- **Right join** (`how=\"right\"`): Keep all rows from right DataFrame  \n",
    "- **Inner join** (`how=\"inner\"`): Keep only matching rows from both DataFrames\n",
    "- **Outer join** (`how=\"outer\"`): Keep all rows from both DataFrames\n",
    "\n",
    "### Key Functions:\n",
    "- `df.merge()`: For joining DataFrames on common columns\n",
    "- `pd.concat()`: For stacking DataFrames vertically or horizontally\n",
    "\n",
    "### Next:\n",
    "We'll analyze time series data and reputation inflation\n",
    "\n",
    "---\n"
   ]
  }
 ],
 "metadata": {
  "kernelspec": {
   "display_name": ".venv",
   "language": "python",
   "name": "python3"
  },
  "language_info": {
   "codemirror_mode": {
    "name": "ipython",
    "version": 3
   },
   "file_extension": ".py",
   "mimetype": "text/x-python",
   "name": "python",
   "nbconvert_exporter": "python",
   "pygments_lexer": "ipython3",
   "version": "3.12.3"
  }
 },
 "nbformat": 4,
 "nbformat_minor": 2
}
