{
  "cells": [
    {
      "cell_type": "markdown",
      "metadata": {},
      "source": [
        "---\n",
        "\n",
        "### 🎓 **Professor**: Apostolos Filippas\n",
        "\n",
        "### 📘 **Class**: E-Commerce\n",
        "\n",
        "### 📋 **Topic**: Combining DataFrames with Python\n",
        "\n",
        "🚫 **Note**: You are not allowed to share the contents of this notebook with anyone outside this class without written permission by the professor.\n",
        "\n",
        "---\n"
      ]
    },
    {
      "cell_type": "markdown",
      "metadata": {},
      "source": [
        "## Overview\n",
        "\n",
        "In real life, our data comes from multiple sources. To perform an analysis, we need to combine dataframes using one or more common `key` variables.\n",
        "\n",
        "**Today we'll learn:**\n",
        "- How to join DataFrames together\n",
        "- Different types of joins (left, right, inner, outer)\n",
        "- How to handle missing matches between datasets\n",
        "- Real-world examples of combining data\n"
      ]
    },
    {
      "cell_type": "markdown",
      "metadata": {},
      "source": [
        "## 1. Data\n"
      ]
    },
    {
      "cell_type": "code",
      "execution_count": null,
      "metadata": {},
      "outputs": [],
      "source": [
        "# Let's import the libraries we will use\n",
        "import pandas as pd\n",
        "import numpy as np\n",
        "\n",
        "# Creating the data\n",
        "\n",
        "# Let's create our first data frame, consisting of directors, and their nationalities\n",
        "df_directors = pd.DataFrame(\n",
        "    {\n",
        "        \"surname\": [\"Spielberg\", \"Scorsese\", \"Hitchcock\", \"Tarantino\", \"Villeneuve\"],\n",
        "        \"nationality\": [\"US\", \"US\", \"UK\", \"US\", \"Canada\"],\n",
        "    }\n",
        ")\n",
        "\n",
        "# Create a data frame that has movies and directors\n",
        "df_movies = pd.DataFrame(\n",
        "    {\n",
        "        \"surname\": [\n",
        "            \"Spielberg\",\n",
        "            \"Scorsese\",\n",
        "            \"Hitchcock\",\n",
        "            \"Hitchcock\",\n",
        "            \"Spielberg\",\n",
        "            \"Tarantino\",\n",
        "            \"Villeneuve\",\n",
        "        ],\n",
        "        \"title\": [\n",
        "            \"Schindler's List\",\n",
        "            \"Taxi Driver\",\n",
        "            \"Psycho\",\n",
        "            \"North by Northwest\",\n",
        "            \"Catch Me If You Can\",\n",
        "            \"Reservoir Dogs\",\n",
        "            \"Dune\",\n",
        "        ],\n",
        "    }\n",
        ")\n",
        "\n",
        "print(\"Directors DataFrame:\")\n",
        "print(df_directors)\n",
        "print(\"\\nMovies DataFrame:\")\n",
        "print(df_movies)\n"
      ]
    },
    {
      "cell_type": "markdown",
      "metadata": {},
      "source": [
        "## 2. Combining dataframes\n",
        "\n",
        "### 2.1 Left Join\n",
        "\n",
        "What if we wanted to create a new dataframe that adds the directors' nationalities to the movies data frame? This is easy in Python using pandas `merge()` function.\n"
      ]
    },
    {
      "cell_type": "code",
      "execution_count": null,
      "metadata": {},
      "outputs": [],
      "source": [
        "df_all = df_movies.merge(df_directors, on=\"surname\", how=\"left\")\n",
        "# Left join keeps all the rows from the left data frame (df_movies),\n",
        "# and adds the columns from the right data frame (df_directors)\n",
        "# if there is a match on the key variable (surname)\n",
        "\n",
        "print(\"Left join result:\")\n",
        "print(df_all.head(20))\n"
      ]
    },
    {
      "cell_type": "code",
      "execution_count": null,
      "metadata": {},
      "outputs": [],
      "source": [
        "# 2.2 Concatenating dataframes\n",
        "\n",
        "# Let's say we found some new directors, which we want to add\n",
        "# to the original data frame\n",
        "df_directors_new = pd.DataFrame(\n",
        "    {\"surname\": [\"Guadagnino\", \"Kubrick\", \"Jackson\"], \"nationality\": [\"IT\", \"US\", \"NZ\"]}\n",
        ")\n",
        "\n",
        "# we can easily add them to the original data frame using pd.concat()\n",
        "# this \"concatenates\" the new data frame to the original one, row-wise\n",
        "df_directors = pd.concat([df_directors, df_directors_new], ignore_index=True)\n",
        "\n",
        "print(\"Updated directors DataFrame:\")\n",
        "print(df_directors)\n"
      ]
    },
    {
      "cell_type": "code",
      "execution_count": null,
      "metadata": {},
      "outputs": [],
      "source": [
        "# Let's do the same with some new movies\n",
        "df_movies_new = pd.DataFrame(\n",
        "    {\n",
        "        \"surname\": [\"Guadagnino\", \"Kubrick\", \"Fellini\"],\n",
        "        \"title\": [\"Call Me By Your Name\", \"Barry Lyndon\", \"La Dolce Vita\"],\n",
        "    }\n",
        ")\n",
        "\n",
        "df_movies = pd.concat([df_movies, df_movies_new], ignore_index=True)\n",
        "\n",
        "print(\"Updated movies DataFrame:\")\n",
        "print(df_movies)\n"
      ]
    },
    {
      "cell_type": "markdown",
      "metadata": {},
      "source": [
        "## 3. Different Types of Joins\n",
        "\n",
        "Now we have some missing matches:\n",
        "- `df_directors` has `Jackson`, but there is no movie by him in `df_movies`\n",
        "- `df_movies` has \"La Dolce Vita\" by `Fellini`, but there is no director by that name in `df_directors`\n",
        "\n",
        "Let's see how different join types handle this.\n"
      ]
    },
    {
      "cell_type": "code",
      "execution_count": null,
      "metadata": {},
      "outputs": [],
      "source": [
        "# Left join with missing matches\n",
        "df_all = df_movies.merge(df_directors, on=\"surname\", how=\"left\")\n",
        "print(\"Left join with missing matches:\")\n",
        "print(df_all)\n",
        "print(\"\\n\" + \"=\"*50 + \"\\n\")\n",
        "\n",
        "# Inner join - only keep rows that match in both datasets\n",
        "df_all = df_movies.merge(df_directors, on=\"surname\", how=\"inner\")\n",
        "print(\"Inner join result:\")\n",
        "print(df_all)\n",
        "print(\"\\n\" + \"=\"*50 + \"\\n\")\n",
        "\n",
        "# Outer join - keep all rows from both datasets\n",
        "df_all = df_movies.merge(df_directors, on=\"surname\", how=\"outer\")\n",
        "print(\"Full/Outer join result:\")\n",
        "print(df_all)\n"
      ]
    },
    {
      "cell_type": "markdown",
      "metadata": {},
      "source": [
        "---\n",
        "\n",
        "## 🎉 Summary\n",
        "\n",
        "### Key Join Types:\n",
        "- **Left join** (`how=\"left\"`): Keep all rows from left DataFrame\n",
        "- **Right join** (`how=\"right\"`): Keep all rows from right DataFrame  \n",
        "- **Inner join** (`how=\"inner\"`): Keep only matching rows from both DataFrames\n",
        "- **Outer join** (`how=\"outer\"`): Keep all rows from both DataFrames\n",
        "\n",
        "### Key Functions:\n",
        "- `df.merge()`: For joining DataFrames on common columns\n",
        "- `pd.concat()`: For stacking DataFrames vertically or horizontally\n",
        "\n",
        "### Next:\n",
        "We'll analyze time series data and reputation inflation\n",
        "\n",
        "---\n"
      ]
    }
  ],
  "metadata": {
    "kernelspec": {
      "display_name": ".venv",
      "language": "python",
      "name": "python3"
    },
    "language_info": {
      "codemirror_mode": {
        "name": "ipython",
        "version": 3
      },
      "file_extension": ".py",
      "mimetype": "text/x-python",
      "name": "python",
      "nbconvert_exporter": "python",
      "pygments_lexer": "ipython3",
      "version": "3.12.3"
    }
  },
  "nbformat": 4,
  "nbformat_minor": 2
}
