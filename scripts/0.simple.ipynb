{
 "cells": [
  {
   "cell_type": "markdown",
   "id": "5d46e914",
   "metadata": {},
   "source": [
    "---\n",
    "\n",
    "### 🎓 **Professor**: Apostolos Filippas\n",
    "\n",
    "### 📘 **Class**: Web Analytics\n",
    "\n",
    "### 📋 **Topic**: Numbers, Object assignment, Strings \n",
    "\n",
    "🚫 **Note**: You are not allowed to share the contents of this notebook with anyone outside this class without written permission by the professor.\n",
    "\n",
    "---"
   ]
  },
  {
   "cell_type": "code",
   "execution_count": null,
   "id": "1ffb7956",
   "metadata": {},
   "outputs": [
    {
     "ename": "",
     "evalue": "",
     "output_type": "error",
     "traceback": [
      "\u001b[1;31mRunning cells with '.venv (Python 3.12.3)' requires the ipykernel package.\n",
      "\u001b[1;31mInstall 'ipykernel' into the Python environment. \n",
      "\u001b[1;31mCommand: '/Users/apostolosfilippas/ec/.venv/bin/python -m pip install ipykernel -U --force-reinstall'"
     ]
    }
   ],
   "source": [
    "# This is the first script for this class\n",
    "# You are supposed to download, open and run it!\n",
    "print(\"Never pay more than 20 bucks for a computer game 🐒\")"
   ]
  },
  {
   "cell_type": "markdown",
   "id": "05648819",
   "metadata": {},
   "source": [
    "The problem is that we first have to install the ipython kernel\n",
    "```\n",
    "pip install ipykernel\n",
    "```\n",
    "Then you we can open the notebook, select the right kernel, and run the script."
   ]
  },
  {
   "cell_type": "code",
   "execution_count": 1,
   "id": "3f5a2fb6",
   "metadata": {},
   "outputs": [
    {
     "name": "stdout",
     "output_type": "stream",
     "text": [
      "Never pay more than 20 bucks for a computer game 🐒\n"
     ]
    }
   ],
   "source": [
    "print(\"Never pay more than 20 bucks for a computer game 🐒\")"
   ]
  },
  {
   "cell_type": "code",
   "execution_count": null,
   "id": "1fc57b2c",
   "metadata": {},
   "outputs": [],
   "source": []
  }
 ],
 "metadata": {
  "kernelspec": {
   "display_name": ".venv",
   "language": "python",
   "name": "python3"
  },
  "language_info": {
   "codemirror_mode": {
    "name": "ipython",
    "version": 3
   },
   "file_extension": ".py",
   "mimetype": "text/x-python",
   "name": "python",
   "nbconvert_exporter": "python",
   "pygments_lexer": "ipython3",
   "version": "3.12.3"
  }
 },
 "nbformat": 4,
 "nbformat_minor": 5
}
