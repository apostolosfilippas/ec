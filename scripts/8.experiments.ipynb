{
 "cells": [
  {
   "cell_type": "markdown",
   "metadata": {},
   "source": [
    "---\n",
    "\n",
    "### 🎓 **Professor**: Apostolos Filippas\n",
    "\n",
    "### 📘 **Class**: E-Commerce\n",
    "\n",
    "### 📋 **Topic**: Analyzing and Visualizing Experiment Results\n",
    "\n",
    "🚫 **Note**: You are not allowed to share the contents of this notebook with anyone outside this class without written permission by the professor.\n",
    "\n",
    "---\n"
   ]
  },
  {
   "cell_type": "markdown",
   "metadata": {},
   "source": [
    "## Overview\n",
    "\n",
    "Let's use our Python knowledge to analyze and visualize the results of an experiment.\n",
    "\n",
    "**Experiment Setup:**\n",
    "- Control group: \"status quo\" pricing algorithm\n",
    "- Treatment group: \"new\" pricing algorithm that we want to evaluate  \n",
    "- Outcome: Earnings at the end of a three month period\n",
    "\n",
    "**What we'll learn:**\n",
    "- How to analyze experimental results\n",
    "- Statistical comparison between groups\n",
    "- Visualization of treatment effects\n",
    "- Understanding experimental outcomes\n"
   ]
  },
  {
   "cell_type": "code",
   "execution_count": 1,
   "metadata": {
    "execution": {
     "iopub.execute_input": "2025-08-27T19:51:57.586070Z",
     "iopub.status.busy": "2025-08-27T19:51:57.585794Z",
     "iopub.status.idle": "2025-08-27T19:51:58.314069Z",
     "shell.execute_reply": "2025-08-27T19:51:58.313817Z"
    }
   },
   "outputs": [
    {
     "name": "stdout",
     "output_type": "stream",
     "text": [
      "Dataset loaded successfully!\n",
      "Dataset shape: (2000, 3)\n",
      "Columns: ['user', 'earnings', 'treatment']\n",
      "Sample of experiment data:\n",
      "   user    earnings treatment\n",
      "0     1  305.547922   Control\n",
      "1     2  208.765091   Control\n",
      "2     3  255.156421   Control\n",
      "3     4  268.643130   Control\n",
      "4     5  257.213416   Control\n",
      "Treatment group distribution:\n",
      "treatment\n",
      "Control      1000\n",
      "Treatment    1000\n",
      "Name: count, dtype: int64\n",
      "Basic statistics:\n",
      "              user     earnings\n",
      "count  2000.000000  2000.000000\n",
      "mean   1000.500000   251.221439\n",
      "std     577.494589    52.069501\n",
      "min       1.000000    68.413046\n",
      "25%     500.750000   217.450564\n",
      "50%    1000.500000   250.806772\n",
      "75%    1500.250000   286.423926\n",
      "max    2000.000000   446.232975\n"
     ]
    }
   ],
   "source": [
    "# Let's import the libraries we will use\n",
    "import matplotlib.pyplot as plt\n",
    "import numpy as np\n",
    "import pandas as pd\n",
    "import seaborn as sns\n",
    "\n",
    "# Load experiment data\n",
    "df_users = pd.read_csv(\"../data/earnings.csv\")\n",
    "\n",
    "print(\"Dataset loaded successfully!\")\n",
    "print(f\"Dataset shape: {df_users.shape}\")\n",
    "print(f\"Columns: {df_users.columns.tolist()}\")\n",
    "\n",
    "print(\"Sample of experiment data:\")\n",
    "print(df_users.head())\n",
    "\n",
    "print(\"Treatment group distribution:\")\n",
    "print(df_users[\"treatment\"].value_counts())\n",
    "\n",
    "print(\"Basic statistics:\")\n",
    "print(df_users.describe())\n"
   ]
  },
  {
   "cell_type": "code",
   "execution_count": 2,
   "metadata": {
    "execution": {
     "iopub.execute_input": "2025-08-27T19:51:58.331134Z",
     "iopub.status.busy": "2025-08-27T19:51:58.331035Z",
     "iopub.status.idle": "2025-08-27T19:51:58.485121Z",
     "shell.execute_reply": "2025-08-27T19:51:58.484876Z"
    }
   },
   "outputs": [
    {
     "name": "stdout",
     "output_type": "stream",
     "text": [
      "Distribution plot saved to temp/earnings_distribution.pdf\n"
     ]
    },
    {
     "name": "stderr",
     "output_type": "stream",
     "text": [
      "/var/folders/lw/wwwtpbsj28z8zqcycbpy4t2r0000gn/T/ipykernel_45759/4114843980.py:8: UserWarning: No artists with labels found to put in legend.  Note that artists whose label start with an underscore are ignored when legend() is called with no argument.\n",
      "  plt.legend(title=\"Treatment Group\")\n"
     ]
    }
   ],
   "source": [
    "# Distribution visualization\n",
    "# Plot distributions of earnings for control and treatment groups\n",
    "plt.figure(figsize=(10, 6))\n",
    "sns.histplot(data=df_users, x=\"earnings\", hue=\"treatment\", alpha=0.6, bins=30, kde=True)\n",
    "plt.xlabel(\"Earnings\")\n",
    "plt.ylabel(\"Distribution\")\n",
    "plt.title(\"Distribution of Earnings by Treatment Group\")\n",
    "plt.legend(title=\"Treatment Group\")\n",
    "plt.grid(True, alpha=0.3)\n",
    "plt.tight_layout()\n",
    "plt.savefig(\"../temp/earnings_distribution.pdf\", dpi=1000, bbox_inches=\"tight\")\n",
    "plt.close()\n",
    "\n",
    "print(\"Distribution plot saved to temp/earnings_distribution.pdf\")\n"
   ]
  },
  {
   "cell_type": "code",
   "execution_count": 3,
   "metadata": {
    "execution": {
     "iopub.execute_input": "2025-08-27T19:51:58.486268Z",
     "iopub.status.busy": "2025-08-27T19:51:58.486187Z",
     "iopub.status.idle": "2025-08-27T19:51:58.539355Z",
     "shell.execute_reply": "2025-08-27T19:51:58.539085Z"
    }
   },
   "outputs": [
    {
     "name": "stdout",
     "output_type": "stream",
     "text": [
      "\n",
      "Detailed statistics by treatment group:\n",
      "   treatment  sample_mean  sample_var  sample_size  sample_se\n",
      "0    Control       235.71     2512.62         1000   1.585125\n",
      "1  Treatment       266.73     2430.79         1000   1.559099\n",
      "\n",
      "Treatment Effect:\n",
      "Treatment group average: $266.73\n",
      "Control group average: $235.71\n",
      "Treatment effect: $31.02\n"
     ]
    },
    {
     "name": "stdout",
     "output_type": "stream",
     "text": [
      "Point estimates plot saved to temp/earnings_point_estimates.pdf\n"
     ]
    }
   ],
   "source": [
    "# Calculate treatment effect and create point estimates\n",
    "# Compare earnings between treatment and control groups\n",
    "\n",
    "df_stats = (\n",
    "    df_users.groupby(\"treatment\")\n",
    "    .agg({\"earnings\": [\"mean\", \"var\", \"count\"]})\n",
    "    .round(2)\n",
    ")\n",
    "\n",
    "# Flatten column names\n",
    "df_stats.columns = [\"sample_mean\", \"sample_var\", \"sample_size\"]\n",
    "df_stats = df_stats.reset_index()\n",
    "\n",
    "# Calculate standard error\n",
    "df_stats[\"sample_se\"] = np.sqrt(df_stats[\"sample_var\"]) / np.sqrt(df_stats[\"sample_size\"])\n",
    "\n",
    "print(\"\\nDetailed statistics by treatment group:\")\n",
    "print(df_stats)\n",
    "\n",
    "# Calculate treatment effect\n",
    "treatment_mean = df_stats[df_stats[\"treatment\"] == \"Treatment\"][\"sample_mean\"].iloc[0]\n",
    "control_mean = df_stats[df_stats[\"treatment\"] == \"Control\"][\"sample_mean\"].iloc[0]\n",
    "treatment_effect = treatment_mean - control_mean\n",
    "\n",
    "print(f\"\\nTreatment Effect:\")\n",
    "print(f\"Treatment group average: ${treatment_mean:.2f}\")\n",
    "print(f\"Control group average: ${control_mean:.2f}\")\n",
    "print(f\"Treatment effect: ${treatment_effect:.2f}\")\n",
    "\n",
    "# Create point estimate plot with confidence intervals\n",
    "plt.figure(figsize=(8, 6))\n",
    "plt.errorbar(\n",
    "    x=range(len(df_stats)),\n",
    "    y=df_stats[\"sample_mean\"],\n",
    "    yerr=1.96 * df_stats[\"sample_se\"],  # 95% confidence intervals\n",
    "    fmt=\"o\",\n",
    "    capsize=5,\n",
    "    capthick=2,\n",
    "    elinewidth=2,\n",
    "    markersize=8,\n",
    "    color=\"red\",\n",
    "    alpha=0.7,\n",
    ")\n",
    "\n",
    "plt.xticks(range(len(df_stats)), df_stats[\"treatment\"])\n",
    "plt.xlabel(\"Experimental Groups\")\n",
    "plt.ylabel(\"Mean Estimates\")\n",
    "plt.title(\"Treatment Effect with 95% Confidence Intervals\")\n",
    "plt.grid(True, alpha=0.3, axis=\"y\")\n",
    "plt.tight_layout()\n",
    "plt.savefig(\"../temp/earnings_point_estimates.pdf\", dpi=1000, bbox_inches=\"tight\")\n",
    "plt.close()\n",
    "\n",
    "print(\"Point estimates plot saved to temp/earnings_point_estimates.pdf\")\n"
   ]
  },
  {
   "cell_type": "code",
   "execution_count": 4,
   "metadata": {
    "execution": {
     "iopub.execute_input": "2025-08-27T19:51:58.540453Z",
     "iopub.status.busy": "2025-08-27T19:51:58.540364Z",
     "iopub.status.idle": "2025-08-27T19:51:58.545016Z",
     "shell.execute_reply": "2025-08-27T19:51:58.544756Z"
    }
   },
   "outputs": [
    {
     "name": "stdout",
     "output_type": "stream",
     "text": [
      "\n",
      "Statistical Test Results:\n",
      "T-statistic: 13.9541\n",
      "P-value: 0.000000\n",
      "Cohen's d (effect size): 0.6240\n",
      "\n",
      "Treatment Effect Analysis:\n",
      "Difference in means: 31.03\n",
      "95% Confidence Interval: [26.67, 35.38]\n",
      "Percentage change: 13.2%\n"
     ]
    }
   ],
   "source": [
    "# Statistical significance testing\n",
    "from scipy import stats\n",
    "\n",
    "treatment_earnings = df_users[df_users[\"treatment\"] == \"Treatment\"][\"earnings\"]\n",
    "control_earnings = df_users[df_users[\"treatment\"] == \"Control\"][\"earnings\"]\n",
    "\n",
    "# Perform two-sample t-test\n",
    "ttest_result = stats.ttest_ind(treatment_earnings, control_earnings)\n",
    "\n",
    "print(f\"\\nStatistical Test Results:\")\n",
    "print(f\"T-statistic: {ttest_result.statistic:.4f}\")\n",
    "print(f\"P-value: {ttest_result.pvalue:.6f}\")\n",
    "\n",
    "# Calculate effect size (Cohen's d)\n",
    "pooled_std = np.sqrt(\n",
    "    (\n",
    "        (len(treatment_earnings) - 1) * treatment_earnings.var()\n",
    "        + (len(control_earnings) - 1) * control_earnings.var()\n",
    "    )\n",
    "    / (len(treatment_earnings) + len(control_earnings) - 2)\n",
    ")\n",
    "\n",
    "cohens_d = (treatment_earnings.mean() - control_earnings.mean()) / pooled_std\n",
    "\n",
    "print(f\"Cohen's d (effect size): {cohens_d:.4f}\")\n",
    "\n",
    "# Calculate confidence interval for the difference in means\n",
    "diff_means = treatment_earnings.mean() - control_earnings.mean()\n",
    "se_diff = np.sqrt(\n",
    "    treatment_earnings.var() / len(treatment_earnings)\n",
    "    + control_earnings.var() / len(control_earnings)\n",
    ")\n",
    "\n",
    "ci_lower = diff_means - 1.96 * se_diff\n",
    "ci_upper = diff_means + 1.96 * se_diff\n",
    "\n",
    "print(f\"\\nTreatment Effect Analysis:\")\n",
    "print(f\"Difference in means: {diff_means:.2f}\")\n",
    "print(f\"95% Confidence Interval: [{ci_lower:.2f}, {ci_upper:.2f}]\")\n",
    "\n",
    "# Percentage change\n",
    "pct_change = (diff_means / control_earnings.mean()) * 100\n",
    "print(f\"Percentage change: {pct_change:.1f}%\")\n"
   ]
  },
  {
   "cell_type": "code",
   "execution_count": 5,
   "metadata": {
    "execution": {
     "iopub.execute_input": "2025-08-27T19:51:58.546140Z",
     "iopub.status.busy": "2025-08-27T19:51:58.546040Z",
     "iopub.status.idle": "2025-08-27T19:51:58.610816Z",
     "shell.execute_reply": "2025-08-27T19:51:58.610549Z"
    }
   },
   "outputs": [
    {
     "name": "stderr",
     "output_type": "stream",
     "text": [
      "/var/folders/lw/wwwtpbsj28z8zqcycbpy4t2r0000gn/T/ipykernel_45759/2321180713.py:5: FutureWarning: \n",
      "\n",
      "Passing `palette` without assigning `hue` is deprecated and will be removed in v0.14.0. Assign the `x` variable to `hue` and set `legend=False` for the same effect.\n",
      "\n",
      "  sns.boxplot(data=df_users, x=\"treatment\", y=\"earnings\", palette=\"Set2\")\n"
     ]
    },
    {
     "name": "stdout",
     "output_type": "stream",
     "text": [
      "Box plot saved to temp/earnings_boxplot.pdf\n",
      "\n",
      "============================================================\n",
      "EXPERIMENT RESULTS INTERPRETATION\n",
      "============================================================\n",
      "\n",
      "1. Statistical Significance:\n",
      "   P-value: 0.000000\n",
      "   Significant at α = 0.05: Yes\n",
      "\n",
      "2. Effect Size:\n",
      "   Cohen's d: 0.6240 (Large effect)\n",
      "\n",
      "3. Practical Significance:\n",
      "   Treatment increases earnings by $31.03\n",
      "   This represents a 13.2% increase\n",
      "\n",
      "4. Confidence in Results:\n",
      "   95% CI: [$26.67, $35.38]\n",
      "   We can be 95% confident the treatment has a positive effect\n"
     ]
    }
   ],
   "source": [
    "# Additional visualizations\n",
    "\n",
    "# Box plot comparison\n",
    "plt.figure(figsize=(8, 6))\n",
    "sns.boxplot(data=df_users, x=\"treatment\", y=\"earnings\", palette=\"Set2\")\n",
    "plt.xlabel(\"Treatment Group\")\n",
    "plt.ylabel(\"Earnings\")\n",
    "plt.title(\"Earnings Distribution by Treatment Group\")\n",
    "plt.grid(True, alpha=0.3, axis=\"y\")\n",
    "plt.tight_layout()\n",
    "plt.savefig(\"../temp/earnings_boxplot.pdf\", dpi=1000, bbox_inches=\"tight\")\n",
    "plt.close()\n",
    "\n",
    "print(\"Box plot saved to temp/earnings_boxplot.pdf\")\n",
    "\n",
    "# Results interpretation\n",
    "print(f\"\\n\" + \"=\" * 60)\n",
    "print(\"EXPERIMENT RESULTS INTERPRETATION\")\n",
    "print(\"=\" * 60)\n",
    "\n",
    "significance_level = 0.05\n",
    "is_significant = ttest_result.pvalue < significance_level\n",
    "\n",
    "print(f\"\\n1. Statistical Significance:\")\n",
    "print(f\"   P-value: {ttest_result.pvalue:.6f}\")\n",
    "print(f\"   Significant at α = {significance_level}: {'Yes' if is_significant else 'No'}\")\n",
    "\n",
    "print(f\"\\n2. Effect Size:\")\n",
    "if abs(cohens_d) < 0.2:\n",
    "    effect_interpretation = \"Small\"\n",
    "elif abs(cohens_d) < 0.5:\n",
    "    effect_interpretation = \"Medium\"\n",
    "elif abs(cohens_d) < 0.8:\n",
    "    effect_interpretation = \"Large\"\n",
    "else:\n",
    "    effect_interpretation = \"Very Large\"\n",
    "\n",
    "print(f\"   Cohen's d: {cohens_d:.4f} ({effect_interpretation} effect)\")\n",
    "\n",
    "print(f\"\\n3. Practical Significance:\")\n",
    "print(f\"   Treatment {'increases' if diff_means > 0 else 'decreases'} earnings by ${abs(diff_means):.2f}\")\n",
    "print(f\"   This represents a {abs(pct_change):.1f}% {'increase' if diff_means > 0 else 'decrease'}\")\n",
    "\n",
    "print(f\"\\n4. Confidence in Results:\")\n",
    "print(f\"   95% CI: [${ci_lower:.2f}, ${ci_upper:.2f}]\")\n",
    "\n",
    "if ci_lower > 0:\n",
    "    print(\"   We can be 95% confident the treatment has a positive effect\")\n",
    "elif ci_upper < 0:\n",
    "    print(\"   We can be 95% confident the treatment has a negative effect\")\n",
    "else:\n",
    "    print(\"   The confidence interval includes zero - effect direction is uncertain\")\n"
   ]
  },
  {
   "cell_type": "markdown",
   "metadata": {},
   "source": [
    "---\n",
    "\n",
    "## 🎉 Summary\n",
    "\n",
    "We analyzed experimental results comprehensively:\n",
    "- **Distribution visualization** and comparison\n",
    "- **Point estimates** with confidence intervals\n",
    "- **Statistical significance testing** (t-tests)\n",
    "- **Effect size calculation** (Cohen's d)\n",
    "- **Treatment effect interpretation** (statistical vs practical significance)\n",
    "\n",
    "**Key concepts learned:**\n",
    "- Statistical vs practical significance\n",
    "- Confidence intervals for treatment effects\n",
    "- Effect size interpretation\n",
    "- Robust experimental analysis\n",
    "\n",
    "Experimental analysis helps us understand causal effects and make data-driven decisions.\n",
    "\n",
    "### Next:\n",
    "We'll explore advanced statistical concepts like Law of Large Numbers and Central Limit Theorem\n",
    "\n",
    "---\n"
   ]
  }
 ],
 "metadata": {
  "kernelspec": {
   "display_name": ".venv",
   "language": "python",
   "name": "python3"
  },
  "language_info": {
   "codemirror_mode": {
    "name": "ipython",
    "version": 3
   },
   "file_extension": ".py",
   "mimetype": "text/x-python",
   "name": "python",
   "nbconvert_exporter": "python",
   "pygments_lexer": "ipython3",
   "version": "3.12.3"
  }
 },
 "nbformat": 4,
 "nbformat_minor": 2
}
