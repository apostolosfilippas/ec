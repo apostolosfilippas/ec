{
  "cells": [
    {
      "cell_type": "markdown",
      "metadata": {},
      "source": [
        "---\n",
        "\n",
        "### 🎓 **Professor**: Apostolos Filippas\n",
        "\n",
        "### 📘 **Class**: E-Commerce\n",
        "\n",
        "### 📋 **Topic**: Analyzing and Visualizing Experiment Results\n",
        "\n",
        "🚫 **Note**: You are not allowed to share the contents of this notebook with anyone outside this class without written permission by the professor.\n",
        "\n",
        "---\n"
      ]
    },
    {
      "cell_type": "markdown",
      "metadata": {},
      "source": [
        "## Overview\n",
        "\n",
        "Let's use our Python knowledge to analyze and visualize the results of an experiment.\n",
        "\n",
        "**Experiment Setup:**\n",
        "- Control group: \"status quo\" pricing algorithm\n",
        "- Treatment group: \"new\" pricing algorithm that we want to evaluate  \n",
        "- Outcome: Earnings at the end of a three month period\n",
        "\n",
        "**What we'll learn:**\n",
        "- How to analyze experimental results\n",
        "- Statistical comparison between groups\n",
        "- Visualization of treatment effects\n",
        "- Understanding experimental outcomes\n"
      ]
    },
    {
      "cell_type": "code",
      "execution_count": null,
      "metadata": {},
      "outputs": [],
      "source": [
        "# Let's import the libraries we will use\n",
        "import matplotlib.pyplot as plt\n",
        "import numpy as np\n",
        "import pandas as pd\n",
        "import seaborn as sns\n",
        "\n",
        "# Load experiment data\n",
        "df_users = pd.read_csv(\"../data/earnings.csv\")\n",
        "\n",
        "print(\"Dataset loaded successfully!\")\n",
        "print(f\"Dataset shape: {df_users.shape}\")\n",
        "print(f\"Columns: {df_users.columns.tolist()}\")\n",
        "\n",
        "print(\"Sample of experiment data:\")\n",
        "print(df_users.head())\n",
        "\n",
        "print(\"Treatment group distribution:\")\n",
        "print(df_users[\"treatment\"].value_counts())\n",
        "\n",
        "print(\"Basic statistics:\")\n",
        "print(df_users.describe())\n"
      ]
    },
    {
      "cell_type": "code",
      "execution_count": null,
      "metadata": {},
      "outputs": [],
      "source": [
        "# Calculate treatment effect\n",
        "# Compare earnings between treatment and control groups\n",
        "\n",
        "df_stats = (\n",
        "    df_users.groupby(\"treatment\")\n",
        "    .agg({\"earnings\": [\"mean\", \"var\", \"count\"]})\n",
        "    .reset_index()\n",
        ")\n",
        "\n",
        "# Flatten column names\n",
        "df_stats.columns = [\"treatment\", \"sample_mean\", \"sample_var\", \"sample_size\"]\n",
        "\n",
        "# Calculate standard error\n",
        "df_stats[\"sample_se\"] = np.sqrt(df_stats[\"sample_var\"]) / np.sqrt(df_stats[\"sample_size\"])\n",
        "\n",
        "print(\"\\nDetailed statistics by treatment group:\")\n",
        "print(df_stats)\n",
        "\n",
        "# Calculate treatment effect\n",
        "treatment_mean = df_stats[df_stats[\"treatment\"] == \"Treatment\"][\"sample_mean\"].iloc[0]\n",
        "control_mean = df_stats[df_stats[\"treatment\"] == \"Control\"][\"sample_mean\"].iloc[0]\n",
        "treatment_effect = treatment_mean - control_mean\n",
        "\n",
        "print(f\"\\nTreatment Effect:\")\n",
        "print(f\"Treatment group average: ${treatment_mean:.2f}\")\n",
        "print(f\"Control group average: ${control_mean:.2f}\")\n",
        "print(f\"Treatment effect: ${treatment_effect:.2f}\")\n"
      ]
    },
    {
      "cell_type": "markdown",
      "metadata": {},
      "source": [
        "---\n",
        "\n",
        "## 🎉 Summary\n",
        "\n",
        "We analyzed experimental results and found:\n",
        "- **Treatment effects** between different groups\n",
        "- **Statistical comparisons** of outcomes\n",
        "- **Confidence intervals** for estimates\n",
        "- **Visualization techniques** for experiment results\n",
        "\n",
        "Experimental analysis helps us understand causal effects and make data-driven decisions.\n",
        "\n",
        "### Next:\n",
        "We'll explore more advanced experimental techniques\n",
        "\n",
        "---\n"
      ]
    }
  ],
  "metadata": {
    "language_info": {
      "name": "python"
    }
  },
  "nbformat": 4,
  "nbformat_minor": 2
}
