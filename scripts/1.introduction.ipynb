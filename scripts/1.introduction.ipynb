{
  "cells": [
    {
      "cell_type": "markdown",
      "metadata": {},
      "source": [
        "---\n",
        "\n",
        "### 🎓 **Professor**: Apostolos Filippas\n",
        "\n",
        "### 📘 **Class**: E-Commerce\n",
        "\n",
        "### 📋 **Topic**: Introduction to Python and VS Code / Cursor\n",
        "\n",
        "🚫 **Note**: You are not allowed to share the contents of this notebook with anyone outside this class without written permission by the professor.\n",
        "\n",
        "---\n"
      ]
    },
    {
      "cell_type": "markdown",
      "metadata": {},
      "source": [
        "## Overview\n",
        "\n",
        "Today we will learn how our basic Python \"tools\" work:\n",
        "- how to use VS Code/Python IDE,\n",
        "- how to install and import packages/libraries,\n",
        "- how to work with virtual environments\n",
        "\n",
        "**Remember:**\n",
        "- Anything that follows a hash tag is a comment.\n",
        "- Comments are being ignored by Python.\n"
      ]
    },
    {
      "cell_type": "markdown",
      "metadata": {},
      "source": [
        "## 1. Setting up Python Environment\n",
        "\n",
        "### 1.1 Virtual Environment Setup\n",
        "\n",
        "A virtual environment is an isolated Python environment that allows you to install packages without affecting your system-wide Python installation.\n",
        "\n",
        "To create a virtual environment (run these commands in your terminal):\n",
        "```bash\n",
        "python -m venv .venv\n",
        "```\n",
        "\n",
        "To activate the virtual environment on Mac/Linux (run this in your terminal):\n",
        "```bash\n",
        "source .venv/bin/activate\n",
        "```\n",
        "\n",
        "To activate the virtual environment on Windows (run this in your terminal):\n",
        "```bash\n",
        ".venv\\activate\n",
        "```\n",
        "\n",
        "You'll know it's active when you see (.venv) at the beginning of your terminal prompt. You'll also notice a new folder called .venv in your project directory.\n",
        "\n",
        "### 1.2 The Python Console/REPL\n",
        "\n",
        "Python has an interactive shell (REPL - Read-Eval-Print Loop). You can access it by typing 'python' in your terminal (with the virtual environment activated).\n"
      ]
    },
    {
      "cell_type": "code",
      "execution_count": null,
      "metadata": {},
      "outputs": [],
      "source": [
        "# Example: using Python as a calculator\n",
        "\n",
        "# addition\n",
        "print(5 + 5)\n",
        "\n",
        "# subtraction\n",
        "print(5 - 5)\n",
        "\n",
        "# multiplication\n",
        "print(5 * 5)\n",
        "\n",
        "# exponentiation\n",
        "print(5**5)\n",
        "\n",
        "# division\n",
        "print(5 / 5)\n"
      ]
    },
    {
      "cell_type": "markdown",
      "metadata": {},
      "source": [
        "### 1.3 Script Files vs Interactive Mode\n",
        "\n",
        "You can write Python code in script files (.py) that can be saved and reused. To run a script file:\n",
        "\n",
        "```bash\n",
        "python 1.introduction.py\n",
        "```\n"
      ]
    },
    {
      "cell_type": "markdown",
      "metadata": {},
      "source": [
        "## 2. Using packages\n",
        "\n",
        "Python packages contain functions and tools. Python comes with a \"standard library\". There are thousands of third-party packages available via pip (Python's package installer).\n",
        "\n",
        "### 2.1 pandas\n",
        "\n",
        "The package called `pandas` provides data structures and functions for data analysis. It will be the main package we will use in this class.\n",
        "\n",
        "### 2.2 Installing packages\n",
        "\n",
        "In Python, we use `pip` to install packages. Run this in your terminal (with the virtual environment activated):\n",
        "\n",
        "```bash\n",
        "pip install pandas numpy matplotlib seaborn\n",
        "```\n",
        "\n",
        "This will install the packages `pandas`, `numpy`, `matplotlib`, and `seaborn`.\n"
      ]
    },
    {
      "cell_type": "code",
      "execution_count": null,
      "metadata": {},
      "outputs": [],
      "source": [
        "# 2.3 Importing packages\n",
        "# In Python, we use 'import'\n",
        "\n",
        "import pandas as pd  # 'as pd' creates an alias for shorter typing\n",
        "import numpy as np  # numpy provides mathematical and statistical functions\n",
        "\n",
        "# 2.4 Let's import the main data science packages\n",
        "import matplotlib.pyplot as plt  # for plotting and visualizations\n",
        "import seaborn as sns  # enhanced plotting and statistical visualizations\n",
        "\n",
        "print(\"Successfully imported all packages!\")\n"
      ]
    },
    {
      "cell_type": "markdown",
      "metadata": {},
      "source": [
        "## 3. Working directory and file paths\n"
      ]
    },
    {
      "cell_type": "code",
      "execution_count": null,
      "metadata": {},
      "outputs": [],
      "source": [
        "# 3.1 View your current working directory\n",
        "import os\n",
        "\n",
        "print(\"Current working directory:\", os.getcwd())\n",
        "print(f\"Current working directory: {os.getcwd()}\")\n"
      ]
    },
    {
      "cell_type": "code",
      "execution_count": null,
      "metadata": {},
      "outputs": [],
      "source": [
        "# 3.2 Changing your working directory\n",
        "# You can change directories programmatically:\n",
        "os.chdir(\"..\")\n",
        "print(\"Current working directory:\", os.getcwd())\n",
        "\n",
        "os.chdir(\"scripts\")\n",
        "print(\"Current working directory:\", os.getcwd())\n",
        "\n",
        "# Example (commented out - uncomment and modify for your path):\n",
        "\n",
        "# Mac/Linux\n",
        "os.chdir(os.path.expanduser(\"~/Desktop/\"))  # Mac/Linux\n",
        "print(\"Current working directory:\", os.getcwd())\n",
        "os.chdir(os.path.expanduser(\"~/ec/\"))\n",
        "print(\"Current working directory:\", os.getcwd())\n",
        "\n",
        "# Windows\n",
        "# os.chdir(\"C:/Users/username/Desktop\")  # Windows\n",
        "# print(\"Current working directory:\", os.getcwd())\n",
        "# os.chdir(os.path.expanduser(\"~/ec/\"))\n",
        "# print(\"Current working directory:\", os.getcwd())\n"
      ]
    },
    {
      "cell_type": "code",
      "execution_count": null,
      "metadata": {},
      "outputs": [],
      "source": [
        "# 3.3 Better practice: Use relative paths\n",
        "# Instead of changing directories, it's better to use relative paths\n",
        "\n",
        "# Mac/Linux\n",
        "os.chdir(os.path.expanduser(\"~/ec/scripts\"))\n",
        "print(\"Current working directory:\", os.getcwd())\n",
        "os.chdir(\"../\")\n",
        "print(\"Current working directory:\", os.getcwd())\n",
        "os.chdir(\"scripts\")\n",
        "print(\"Current working directory:\", os.getcwd())\n",
        "\n",
        "# Windows\n",
        "# os.chdir(os.path.expanduser(\"C:/Users/username/ec/scripts\"))\n",
        "# print(\"Current working directory:\", os.getcwd())\n",
        "# os.chdir(os.path.expanduser(\"C:/Users/username/ec\"))\n",
        "# print(\"Current working directory:\", os.getcwd())\n",
        "# os.chdir(\"scripts\")\n",
        "# print(\"Current working directory:\", os.getcwd())\n"
      ]
    },
    {
      "cell_type": "markdown",
      "metadata": {},
      "source": [
        "## 4. Variable definition\n"
      ]
    },
    {
      "cell_type": "code",
      "execution_count": null,
      "metadata": {},
      "outputs": [],
      "source": [
        "# 4.1 Defining and assigning numerical values\n",
        "# Python uses = for assignment\n",
        "x = 5\n",
        "y = 10\n",
        "\n",
        "print(x + y)\n",
        "\n",
        "x = x + y\n",
        "print(\"x after addition:\", x)\n",
        "\n",
        "z = x / y\n",
        "print(\"z =\", z)\n",
        "\n",
        "# Python is case-sensitive!\n",
        "# z = Z  # This would cause an error if Z is not defined\n",
        "Z = z\n",
        "print(\"Z =\", Z)\n",
        "print(\"Type of Z:\", type(Z))  # type() shows what kind of data this is\n"
      ]
    },
    {
      "cell_type": "markdown",
      "metadata": {},
      "source": [
        "## 5. Lists\n",
        "\n",
        "Variables don't have to be just numbers! We can store multiple values in lists.\n"
      ]
    },
    {
      "cell_type": "code",
      "execution_count": null,
      "metadata": {},
      "outputs": [],
      "source": [
        "# 5.1 Defining lists\n",
        "# Python uses [] to create lists\n",
        "test_results_01 = [20, 18, 17, 19, 20, 15]\n",
        "test_results_02 = [18, 17, 16, 19, 19, 14]\n",
        "\n",
        "# 5.2 Concatenating (combining) lists\n",
        "all_results = test_results_01 + test_results_02\n",
        "print(\"Combined results:\", all_results)\n",
        "\n",
        "# 5.3 Checking the type of a list\n",
        "print(\"Type of all_results:\", type(all_results))\n"
      ]
    },
    {
      "cell_type": "code",
      "execution_count": null,
      "metadata": {},
      "outputs": [],
      "source": [
        "# 5.4 Calculate the mean (average)\n",
        "import numpy as np\n",
        "\n",
        "mean_result = np.mean(all_results)\n",
        "print(\"Mean:\", mean_result)\n",
        "\n",
        "# 5.5 Calculate the standard deviation\n",
        "std_result = np.std(all_results, ddof=1)  # ddof=1 for sample std dev\n",
        "print(\"Standard deviation:\", std_result)\n"
      ]
    },
    {
      "cell_type": "code",
      "execution_count": null,
      "metadata": {},
      "outputs": [],
      "source": [
        "# 5.6 Python slicing: [start:end] where end is exclusive\n",
        "print(\"Elements at positions 1-2:\", all_results[1:3])  # Gets elements at index 1 and 2\n",
        "print(\"Elements at positions 1-4:\", all_results[1:5])  # Gets elements at index 1,2,3,4\n"
      ]
    },
    {
      "cell_type": "markdown",
      "metadata": {},
      "source": [
        "## 6. Boolean values\n"
      ]
    },
    {
      "cell_type": "code",
      "execution_count": null,
      "metadata": {},
      "outputs": [],
      "source": [
        "# 6.1 Checking if values are in lists\n",
        "# Python uses 'in' to check membership\n",
        "print(\"Is 5 in test_results_01?\", 5 in test_results_01)\n",
        "print(\"Is 20 in test_results_01?\", 20 in test_results_01)\n"
      ]
    },
    {
      "cell_type": "code",
      "execution_count": null,
      "metadata": {},
      "outputs": [],
      "source": [
        "# 6.2 Defining and assigning boolean values\n",
        "# Python uses True/False (must be capitalized)\n",
        "x = False\n",
        "print(\"x =\", x)\n",
        "print(\"Type of x:\", type(x))\n",
        "y = True\n",
        "print(\"Type of y:\", type(y))\n",
        "\n",
        "# 6.3 Negation\n",
        "# Python uses 'not' to reverse a boolean value\n",
        "print(\"not x:\", not x)\n",
        "print(\"not y:\", not y)\n"
      ]
    },
    {
      "cell_type": "code",
      "execution_count": null,
      "metadata": {},
      "outputs": [],
      "source": [
        "# 6.4 Boolean operators\n",
        "# Python uses 'and' for logical AND\n",
        "print(\"x and y:\", x and y)\n",
        "\n",
        "# Python uses 'or' for logical OR\n",
        "print(\"x or y:\", x or y)\n"
      ]
    },
    {
      "cell_type": "code",
      "execution_count": null,
      "metadata": {},
      "outputs": [],
      "source": [
        "# 6.5 Equality testing\n",
        "print(\"x == y:\", x == y)\n",
        "print(\"9 == x:\", 9 == x)\n",
        "print(\"9 == 9:\", 9 == 9)\n",
        "\n",
        "# 6.6 Inequality testing\n",
        "print(\"x != y:\", x != y)\n",
        "print(\"9 != x:\", 9 != x)\n",
        "print(\"9 != 9:\", 9 != 9)\n"
      ]
    },
    {
      "cell_type": "code",
      "execution_count": null,
      "metadata": {},
      "outputs": [],
      "source": [
        "# 6.7 Comparison operators\n",
        "print(\"9 <= 9:\", 9 <= 9)\n",
        "print(\"10 <= 9:\", 10 <= 9)\n",
        "print(\"x <= y:\", x <= y)\n",
        "\n",
        "# 6.8 Combining logical expressions\n",
        "print(\"(9 == 9) and (x != y):\", (9 == 9) and (x != y))\n"
      ]
    },
    {
      "cell_type": "markdown",
      "metadata": {},
      "source": [
        "## 7. Python-specific tips\n"
      ]
    },
    {
      "cell_type": "code",
      "execution_count": null,
      "metadata": {},
      "outputs": [],
      "source": [
        "# 7.1 Print statements\n",
        "# Python requires explicit print() to show output\n",
        "result = 5 + 5\n",
        "print(result)\n",
        "result\n"
      ]
    },
    {
      "cell_type": "code",
      "execution_count": null,
      "metadata": {},
      "outputs": [],
      "source": [
        "# 7.2 Indentation matters!\n",
        "# Python uses indentation (spaces/tabs) to group code together\n",
        "if x == False:\n",
        "    print(\"x is False\")\n",
        "    print(\"This line is also part of the if block\")\n",
        "print(\"This line is outside the if block\")\n"
      ]
    }
  ],
  "metadata": {
    "kernelspec": {
      "display_name": ".venv",
      "language": "python",
      "name": "python3"
    },
    "language_info": {
      "codemirror_mode": {
        "name": "ipython",
        "version": 3
      },
      "file_extension": ".py",
      "mimetype": "text/x-python",
      "name": "python",
      "nbconvert_exporter": "python",
      "pygments_lexer": "ipython3",
      "version": "3.12.3"
    }
  },
  "nbformat": 4,
  "nbformat_minor": 2
}
